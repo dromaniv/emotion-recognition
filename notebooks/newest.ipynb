{
 "cells": [
  {
   "cell_type": "markdown",
   "id": "a3a60650",
   "metadata": {},
   "source": [
    "# EEG Emotion Recognition on GAMEEMO\n",
    "\n",
    "This notebook trains a lightweight **MSDCGTNet** model on the GAMEEMO EEG dataset to classify four game‑evoked emotions:\n",
    "\n",
    "| Label | ID | Description |\n",
    "|-------|----|-------------|\n",
    "| 0 | G1 | Boring |\n",
    "| 1 | G2 | Calm |\n",
    "| 2 | G3 | Horror |\n",
    "| 3 | G4 | Funny |\n",
    "\n",
    "Run the notebook top‑to‑bottom to:\n",
    "\n",
    "1. Download and organise the data  \n",
    "2. Build subject‑wise train / validation splits  \n",
    "3. Train MSDCGTNet with early stopping & mixed precision  \n",
    "4. Inspect metrics and a confusion matrix  "
   ]
  },
  {
   "cell_type": "markdown",
   "id": "c82de814",
   "metadata": {},
   "source": [
    "## About the GAMEEMO dataset\n",
    "\n",
    "* **28 subjects** recorded with a 14‑channel Emotiv Epoc + headset  \n",
    "* **4 five‑minute sessions** per subject – each labelled *Boring*, *Calm*, *Horror* or *Funny*  \n",
    "* Data provided as **pre‑processed CSV** (clean, notch‑filtered, 256 Hz)\n",
    "\n",
    "The goal is to recognise the game‑elicited emotion from raw EEG.  \n",
    "We evaluate with a **subject‑wise split** to report true generalisation to unseen people."
   ]
  },
  {
   "cell_type": "markdown",
   "id": "7b129672",
   "metadata": {},
   "source": [
    "## 0 Setup & data download"
   ]
  },
  {
   "cell_type": "code",
   "execution_count": 1,
   "id": "82a06a52",
   "metadata": {},
   "outputs": [
    {
     "name": "stdout",
     "output_type": "stream",
     "text": [
      "Dataset already present - skipping download.\n"
     ]
    }
   ],
   "source": [
    "from pathlib import Path\n",
    "import subprocess, sys\n",
    "\n",
    "DATA_ROOT = Path(\"../data/GAMEEMO\")\n",
    "DATA_ROOT.mkdir(parents=True, exist_ok=True)\n",
    "\n",
    "if not any(DATA_ROOT.rglob(\"*.csv\")):\n",
    "    print(\"Downloading GAMEEMO\")\n",
    "    try:\n",
    "        subprocess.run([\n",
    "            \"kaggle\", \"datasets\", \"download\",\n",
    "            \"-d\", \"sigfest/database-for-emotion-recognition-system-gameemo\",\n",
    "            \"-p\", str(DATA_ROOT.parent), \"--unzip\",\n",
    "        ], check=True)\n",
    "    except Exception as e:\n",
    "        sys.stderr.write(f\"⚠️ Kaggle download failed: {e}\\n\")\n",
    "else:\n",
    "    print(\"Dataset already present - skipping download.\")"
   ]
  },
  {
   "cell_type": "code",
   "execution_count": 2,
   "id": "25b9b7a8",
   "metadata": {},
   "outputs": [
    {
     "name": "stdout",
     "output_type": "stream",
     "text": [
      "Using device: cuda\n",
      "Initializing dataset...\n",
      "Scanning data root: C:\\Users\\dmrom\\emotion-recognition\\data\\GAMEEMO\n",
      "Found 112 recordings from 28 subjects.\n",
      "Number of training samples: 90\n",
      "Number of testing samples: 22\n",
      "\n",
      "--- Starting Training ---\n"
     ]
    },
    {
     "name": "stderr",
     "output_type": "stream",
     "text": [
      "Epochs:   4%|▍         | 1/25 [00:07<02:59,  7.47s/it, TrainAcc=0.2778, TrainLoss=1.3986]"
     ]
    },
    {
     "name": "stdout",
     "output_type": "stream",
     "text": [
      "Epoch 1/25 => Train Loss: 1.3986, Train Acc: 0.2778\n"
     ]
    },
    {
     "name": "stderr",
     "output_type": "stream",
     "text": [
      "Epochs:   8%|▊         | 2/25 [00:14<02:43,  7.10s/it, TrainAcc=0.4444, TrainLoss=1.2223]"
     ]
    },
    {
     "name": "stdout",
     "output_type": "stream",
     "text": [
      "Epoch 2/25 => Train Loss: 1.2223, Train Acc: 0.4444\n"
     ]
    },
    {
     "name": "stderr",
     "output_type": "stream",
     "text": [
      "Epochs:  12%|█▏        | 3/25 [00:21<02:32,  6.94s/it, TrainAcc=0.7333, TrainLoss=1.0866]"
     ]
    },
    {
     "name": "stdout",
     "output_type": "stream",
     "text": [
      "Epoch 3/25 => Train Loss: 1.0866, Train Acc: 0.7333\n"
     ]
    },
    {
     "name": "stderr",
     "output_type": "stream",
     "text": [
      "Epochs:  16%|█▌        | 4/25 [00:27<02:25,  6.93s/it, TrainAcc=0.7778, TrainLoss=0.9614]"
     ]
    },
    {
     "name": "stdout",
     "output_type": "stream",
     "text": [
      "Epoch 4/25 => Train Loss: 0.9614, Train Acc: 0.7778\n"
     ]
    },
    {
     "name": "stderr",
     "output_type": "stream",
     "text": [
      "Epochs:  16%|█▌        | 4/25 [00:34<02:25,  6.93s/it, TrainAcc=0.8111, TrainLoss=0.7962]"
     ]
    },
    {
     "name": "stdout",
     "output_type": "stream",
     "text": [
      "Epoch 5/25 => Train Loss: 0.7962, Train Acc: 0.8111"
     ]
    },
    {
     "name": "stderr",
     "output_type": "stream",
     "text": [
      "Epochs:  20%|██        | 5/25 [00:36<02:28,  7.45s/it, TrainAcc=0.8111, TrainLoss=0.7962, ValAcc=0.6818, ValLoss=0.9421]"
     ]
    },
    {
     "name": "stdout",
     "output_type": "stream",
     "text": [
      " -- Val Loss: 0.9421, Val Acc: 0.6818\n"
     ]
    },
    {
     "name": "stderr",
     "output_type": "stream",
     "text": [
      "Epochs:  24%|██▍       | 6/25 [00:43<02:16,  7.19s/it, TrainAcc=0.8778, TrainLoss=0.6340]                               "
     ]
    },
    {
     "name": "stdout",
     "output_type": "stream",
     "text": [
      "Epoch 6/25 => Train Loss: 0.6340, Train Acc: 0.8778\n"
     ]
    },
    {
     "name": "stderr",
     "output_type": "stream",
     "text": [
      "Epochs:  28%|██▊       | 7/25 [00:49<02:07,  7.09s/it, TrainAcc=0.9111, TrainLoss=0.5011]"
     ]
    },
    {
     "name": "stdout",
     "output_type": "stream",
     "text": [
      "Epoch 7/25 => Train Loss: 0.5011, Train Acc: 0.9111\n"
     ]
    },
    {
     "name": "stderr",
     "output_type": "stream",
     "text": [
      "Epochs:  32%|███▏      | 8/25 [00:56<01:59,  7.04s/it, TrainAcc=0.9778, TrainLoss=0.3620]"
     ]
    },
    {
     "name": "stdout",
     "output_type": "stream",
     "text": [
      "Epoch 8/25 => Train Loss: 0.3620, Train Acc: 0.9778\n"
     ]
    },
    {
     "name": "stderr",
     "output_type": "stream",
     "text": [
      "Epochs:  36%|███▌      | 9/25 [01:03<01:51,  6.98s/it, TrainAcc=0.9889, TrainLoss=0.2520]"
     ]
    },
    {
     "name": "stdout",
     "output_type": "stream",
     "text": [
      "Epoch 9/25 => Train Loss: 0.2520, Train Acc: 0.9889\n"
     ]
    },
    {
     "name": "stderr",
     "output_type": "stream",
     "text": [
      "Epochs:  36%|███▌      | 9/25 [01:10<01:51,  6.98s/it, TrainAcc=0.9889, TrainLoss=0.1902]"
     ]
    },
    {
     "name": "stdout",
     "output_type": "stream",
     "text": [
      "Epoch 10/25 => Train Loss: 0.1902, Train Acc: 0.9889"
     ]
    },
    {
     "name": "stderr",
     "output_type": "stream",
     "text": [
      "Epochs:  40%|████      | 10/25 [01:12<01:51,  7.45s/it, TrainAcc=0.9889, TrainLoss=0.1902, ValAcc=0.9091, ValLoss=0.3783]"
     ]
    },
    {
     "name": "stdout",
     "output_type": "stream",
     "text": [
      " -- Val Loss: 0.3783, Val Acc: 0.9091\n"
     ]
    },
    {
     "name": "stderr",
     "output_type": "stream",
     "text": [
      "Epochs:  44%|████▍     | 11/25 [01:19<01:42,  7.31s/it, TrainAcc=1.0000, TrainLoss=0.1134]                               "
     ]
    },
    {
     "name": "stdout",
     "output_type": "stream",
     "text": [
      "Epoch 11/25 => Train Loss: 0.1134, Train Acc: 1.0000\n"
     ]
    },
    {
     "name": "stderr",
     "output_type": "stream",
     "text": [
      "Epochs:  48%|████▊     | 12/25 [01:26<01:34,  7.23s/it, TrainAcc=1.0000, TrainLoss=0.0697]"
     ]
    },
    {
     "name": "stdout",
     "output_type": "stream",
     "text": [
      "Epoch 12/25 => Train Loss: 0.0697, Train Acc: 1.0000\n"
     ]
    },
    {
     "name": "stderr",
     "output_type": "stream",
     "text": [
      "Epochs:  52%|█████▏    | 13/25 [01:33<01:25,  7.13s/it, TrainAcc=1.0000, TrainLoss=0.0559]"
     ]
    },
    {
     "name": "stdout",
     "output_type": "stream",
     "text": [
      "Epoch 13/25 => Train Loss: 0.0559, Train Acc: 1.0000\n"
     ]
    },
    {
     "name": "stderr",
     "output_type": "stream",
     "text": [
      "Epochs:  56%|█████▌    | 14/25 [01:39<01:16,  6.98s/it, TrainAcc=1.0000, TrainLoss=0.0332]"
     ]
    },
    {
     "name": "stdout",
     "output_type": "stream",
     "text": [
      "Epoch 14/25 => Train Loss: 0.0332, Train Acc: 1.0000\n"
     ]
    },
    {
     "name": "stderr",
     "output_type": "stream",
     "text": [
      "Epochs:  56%|█████▌    | 14/25 [01:46<01:16,  6.98s/it, TrainAcc=1.0000, TrainLoss=0.0258]"
     ]
    },
    {
     "name": "stdout",
     "output_type": "stream",
     "text": [
      "Epoch 15/25 => Train Loss: 0.0258, Train Acc: 1.0000"
     ]
    },
    {
     "name": "stderr",
     "output_type": "stream",
     "text": [
      "Epochs:  60%|██████    | 15/25 [01:48<01:14,  7.47s/it, TrainAcc=1.0000, TrainLoss=0.0258, ValAcc=0.9545, ValLoss=0.2318]"
     ]
    },
    {
     "name": "stdout",
     "output_type": "stream",
     "text": [
      " -- Val Loss: 0.2318, Val Acc: 0.9545\n"
     ]
    },
    {
     "name": "stderr",
     "output_type": "stream",
     "text": [
      "Epochs:  64%|██████▍   | 16/25 [01:55<01:05,  7.31s/it, TrainAcc=1.0000, TrainLoss=0.0204]                               "
     ]
    },
    {
     "name": "stdout",
     "output_type": "stream",
     "text": [
      "Epoch 16/25 => Train Loss: 0.0204, Train Acc: 1.0000\n"
     ]
    },
    {
     "name": "stderr",
     "output_type": "stream",
     "text": [
      "Epochs:  68%|██████▊   | 17/25 [02:02<00:57,  7.17s/it, TrainAcc=1.0000, TrainLoss=0.0163]"
     ]
    },
    {
     "name": "stdout",
     "output_type": "stream",
     "text": [
      "Epoch 17/25 => Train Loss: 0.0163, Train Acc: 1.0000\n"
     ]
    },
    {
     "name": "stderr",
     "output_type": "stream",
     "text": [
      "Epochs:  72%|███████▏  | 18/25 [02:09<00:50,  7.15s/it, TrainAcc=1.0000, TrainLoss=0.0137]"
     ]
    },
    {
     "name": "stdout",
     "output_type": "stream",
     "text": [
      "Epoch 18/25 => Train Loss: 0.0137, Train Acc: 1.0000\n"
     ]
    },
    {
     "name": "stderr",
     "output_type": "stream",
     "text": [
      "Epochs:  76%|███████▌  | 19/25 [02:16<00:42,  7.09s/it, TrainAcc=1.0000, TrainLoss=0.0119]"
     ]
    },
    {
     "name": "stdout",
     "output_type": "stream",
     "text": [
      "Epoch 19/25 => Train Loss: 0.0119, Train Acc: 1.0000\n"
     ]
    },
    {
     "name": "stderr",
     "output_type": "stream",
     "text": [
      "Epochs:  76%|███████▌  | 19/25 [02:23<00:42,  7.09s/it, TrainAcc=1.0000, TrainLoss=0.0104]"
     ]
    },
    {
     "name": "stdout",
     "output_type": "stream",
     "text": [
      "Epoch 20/25 => Train Loss: 0.0104, Train Acc: 1.0000"
     ]
    },
    {
     "name": "stderr",
     "output_type": "stream",
     "text": [
      "Epochs:  80%|████████  | 20/25 [02:24<00:37,  7.55s/it, TrainAcc=1.0000, TrainLoss=0.0104, ValAcc=0.9545, ValLoss=0.2665]"
     ]
    },
    {
     "name": "stdout",
     "output_type": "stream",
     "text": [
      " -- Val Loss: 0.2665, Val Acc: 0.9545\n"
     ]
    },
    {
     "name": "stderr",
     "output_type": "stream",
     "text": [
      "Epochs:  84%|████████▍ | 21/25 [02:31<00:29,  7.36s/it, TrainAcc=1.0000, TrainLoss=0.0092]                               "
     ]
    },
    {
     "name": "stdout",
     "output_type": "stream",
     "text": [
      "Epoch 21/25 => Train Loss: 0.0092, Train Acc: 1.0000\n"
     ]
    },
    {
     "name": "stderr",
     "output_type": "stream",
     "text": [
      "Epochs:  88%|████████▊ | 22/25 [02:38<00:21,  7.29s/it, TrainAcc=1.0000, TrainLoss=0.0083]"
     ]
    },
    {
     "name": "stdout",
     "output_type": "stream",
     "text": [
      "Epoch 22/25 => Train Loss: 0.0083, Train Acc: 1.0000\n"
     ]
    },
    {
     "name": "stderr",
     "output_type": "stream",
     "text": [
      "Epochs:  92%|█████████▏| 23/25 [02:45<00:14,  7.16s/it, TrainAcc=1.0000, TrainLoss=0.0076]"
     ]
    },
    {
     "name": "stdout",
     "output_type": "stream",
     "text": [
      "Epoch 23/25 => Train Loss: 0.0076, Train Acc: 1.0000\n"
     ]
    },
    {
     "name": "stderr",
     "output_type": "stream",
     "text": [
      "Epochs:  96%|█████████▌| 24/25 [02:52<00:07,  7.09s/it, TrainAcc=1.0000, TrainLoss=0.0069]"
     ]
    },
    {
     "name": "stdout",
     "output_type": "stream",
     "text": [
      "Epoch 24/25 => Train Loss: 0.0069, Train Acc: 1.0000\n"
     ]
    },
    {
     "name": "stderr",
     "output_type": "stream",
     "text": [
      "Epochs:  96%|█████████▌| 24/25 [02:59<00:07,  7.09s/it, TrainAcc=1.0000, TrainLoss=0.0064]"
     ]
    },
    {
     "name": "stdout",
     "output_type": "stream",
     "text": [
      "Epoch 25/25 => Train Loss: 0.0064, Train Acc: 1.0000"
     ]
    },
    {
     "name": "stderr",
     "output_type": "stream",
     "text": [
      "Epochs: 100%|██████████| 25/25 [03:01<00:00,  7.25s/it, TrainAcc=1.0000, TrainLoss=0.0064, ValAcc=0.9545, ValLoss=0.2774]\n"
     ]
    },
    {
     "name": "stdout",
     "output_type": "stream",
     "text": [
      " -- Val Loss: 0.2774, Val Acc: 0.9545\n",
      "\n",
      "--- Training Finished ---\n",
      "\n",
      "--- Evaluating on Test Set ---\n"
     ]
    },
    {
     "name": "stderr",
     "output_type": "stream",
     "text": [
      "                                                                                        \r"
     ]
    },
    {
     "name": "stdout",
     "output_type": "stream",
     "text": [
      "Final Test Loss: 0.2774\n",
      "Final Test Accuracy: 0.9545\n",
      "\n",
      "Classification Report:\n",
      "              precision    recall  f1-score   support\n",
      "\n",
      "          G1       1.00      1.00      1.00         8\n",
      "          G2       0.86      1.00      0.92         6\n",
      "          G3       1.00      0.86      0.92         7\n",
      "          G4       1.00      1.00      1.00         1\n",
      "\n",
      "    accuracy                           0.95        22\n",
      "   macro avg       0.96      0.96      0.96        22\n",
      "weighted avg       0.96      0.95      0.95        22\n",
      "\n"
     ]
    },
    {
     "data": {
      "image/png": "[encoded data removed]",
      "text/plain": [
       "<Figure size 800x600 with 2 Axes>"
      ]
     },
     "metadata": {},
     "output_type": "display_data"
    }
   ],
   "source": [
    "import torch\n",
    "import torch.nn as nn\n",
    "import torch.optim as optim\n",
    "from torch.utils.data import Dataset, DataLoader, random_split\n",
    "from pathlib import Path\n",
    "import re\n",
    "import pandas as pd\n",
    "import numpy as np\n",
    "from sklearn.metrics import confusion_matrix, classification_report\n",
    "import matplotlib.pyplot as plt\n",
    "import seaborn as sns\n",
    "from tqdm import tqdm # Added tqdm\n",
    "\n",
    "# --- Configuration ---\n",
    "DATA_ROOT = Path(\"../data/GAMEEMO\") # Assuming data is in a subfolder \"GAMEEMO\"\n",
    "NUM_EPOCHS = 25 # Adjust as needed\n",
    "BATCH_SIZE = 16 # Adjust based on your GPU memory\n",
    "LEARNING_RATE = 0.001\n",
    "TEST_SPLIT_RATIO = 0.2\n",
    "NUM_CLASSES = 4 # G1, G2, G3, G4\n",
    "NUM_CHANNELS = 14 # As per dataset description\n",
    "FIXED_SEQUENCE_LENGTH = 3000 # Example, adjust after inspecting data\n",
    "\n",
    "# --- 1. Data Loading and Preprocessing ---\n",
    "\n",
    "def g_label(fn_name):\n",
    "    \"\"\"Extracts game label (0-3) from a filename.\"\"\"\n",
    "    match = re.search(r\"G([1-4])\", fn_name)\n",
    "    if match:\n",
    "        return int(match.group(1)) - 1\n",
    "    raise ValueError(f\"Could not extract label from {fn_name}\")\n",
    "\n",
    "class EEGDataset(Dataset):\n",
    "    \"\"\"\n",
    "    Custom PyTorch Dataset for GAMEEMO EEG data.\n",
    "    \"\"\"\n",
    "    def __init__(self, data_root, fixed_sequence_length, transform=None):\n",
    "        self.data_root = Path(data_root)\n",
    "        self.fixed_sequence_length = fixed_sequence_length\n",
    "        self.transform = transform\n",
    "        self.eeg_paths = []\n",
    "        self.labels = []\n",
    "        self._load_data()\n",
    "\n",
    "    def _load_data(self):\n",
    "        \"\"\"Loads all EEG file paths and their corresponding labels.\"\"\"\n",
    "        print(f\"Scanning data root: {self.data_root.resolve()}\")\n",
    "        if not self.data_root.exists():\n",
    "            print(f\"ERROR: Data root directory '{self.data_root.resolve()}' does not exist.\")\n",
    "            print(\"Please ensure the GAMEEMO dataset is downloaded and extracted to this location,\")\n",
    "            print(\"or update the DATA_ROOT variable in the script.\")\n",
    "            return\n",
    "\n",
    "        subject_count = 0\n",
    "        for subj_dir in self.data_root.iterdir():\n",
    "            if subj_dir.is_dir() and re.fullmatch(r\"\\(S\\d{2}\\)\", subj_dir.name):\n",
    "                subject_count +=1\n",
    "                csv_dir = subj_dir / \"Preprocessed EEG Data\" / \".csv format\"\n",
    "                if csv_dir.exists():\n",
    "                    for p in csv_dir.glob(\"*.csv\"):\n",
    "                        try:\n",
    "                            label = g_label(p.name)\n",
    "                            self.eeg_paths.append(p)\n",
    "                            self.labels.append(label)\n",
    "                        except ValueError:\n",
    "                            # Silently skip files with label errors, or log to a file\n",
    "                            pass\n",
    "                # else:\n",
    "                    # Optionally log if a subject folder is missing the CSV directory\n",
    "                    # print(f\"Warning: .csv format directory not found in {subj_dir}\")\n",
    "        \n",
    "        if subject_count == 0:\n",
    "            print(f\"Warning: No subject directories like (SXX) found in {self.data_root.resolve()}\")\n",
    "        print(f\"Found {len(self.eeg_paths)} recordings from {subject_count} subjects.\")\n",
    "        if not self.eeg_paths:\n",
    "            print(\"CRITICAL: No EEG files were found. Please check the DATA_ROOT path and dataset structure.\")\n",
    "\n",
    "    def __len__(self):\n",
    "        return len(self.eeg_paths)\n",
    "\n",
    "    def __getitem__(self, idx):\n",
    "        file_path = self.eeg_paths[idx]\n",
    "        label = self.labels[idx]\n",
    "\n",
    "        try:\n",
    "            df = pd.read_csv(file_path, header=0) # Explicitly state header is on row 0\n",
    "\n",
    "            # Corrected logic: User specified the comma is at the END of the header.\n",
    "            # This means pandas might create an extra unnamed column at the end.\n",
    "            # We should take the FIRST NUM_CHANNELS columns.\n",
    "            if df.shape[1] == NUM_CHANNELS + 1:\n",
    "                # If there's an extra column, assume it's the last one due to trailing comma\n",
    "                df = df.iloc[:, :NUM_CHANNELS]\n",
    "            elif df.shape[1] == NUM_CHANNELS:\n",
    "                # Correct number of columns\n",
    "                pass\n",
    "            else:\n",
    "                # Incorrect number of columns for data\n",
    "                # Log this error if necessary, but avoid spammy prints\n",
    "                # print(f\"Error: File {file_path.name} has {df.shape[1]} data columns after header, expected {NUM_CHANNELS}. Skipping.\")\n",
    "                return None, None\n",
    "\n",
    "            eeg_data = df.values.astype(np.float32)\n",
    "\n",
    "            # Pad or truncate sequence\n",
    "            if eeg_data.shape[0] > self.fixed_sequence_length:\n",
    "                eeg_data = eeg_data[:self.fixed_sequence_length, :]\n",
    "            else:\n",
    "                padding_rows = self.fixed_sequence_length - eeg_data.shape[0]\n",
    "                if padding_rows > 0: # Ensure padding is only added if needed\n",
    "                    padding = np.zeros((padding_rows, NUM_CHANNELS), dtype=np.float32)\n",
    "                    eeg_data = np.vstack((eeg_data, padding))\n",
    "            \n",
    "            # Ensure eeg_data has the correct shape before transposing\n",
    "            if eeg_data.shape[1] != NUM_CHANNELS:\n",
    "                # This case should ideally be caught earlier\n",
    "                # print(f\"Error: File {file_path.name} data has {eeg_data.shape[1]} channels after processing, expected {NUM_CHANNELS}. Skipping.\")\n",
    "                return None, None\n",
    "\n",
    "            # Transpose to (channels, sequence_length) for Conv1D\n",
    "            eeg_data = eeg_data.T # (NUM_CHANNELS, fixed_sequence_length)\n",
    "\n",
    "            if self.transform:\n",
    "                eeg_data = self.transform(eeg_data)\n",
    "\n",
    "            return torch.tensor(eeg_data, dtype=torch.float32), torch.tensor(label, dtype=torch.long)\n",
    "\n",
    "        except pd.errors.EmptyDataError:\n",
    "            # print(f\"Warning: File {file_path.name} is empty. Skipping.\")\n",
    "            return None, None\n",
    "        except Exception: # Catch other potential errors during file processing\n",
    "            # print(f\"Error processing file {file_path.name}: {e}. Skipping.\")\n",
    "            return None, None\n",
    "\n",
    "def custom_collate_fn(batch):\n",
    "    \"\"\"\n",
    "    Collate function to filter out None items from the batch.\n",
    "    These None items can result from file processing errors in __getitem__.\n",
    "    \"\"\"\n",
    "    # Filter out None items\n",
    "    batch = [item for item in batch if item[0] is not None and item[1] is not None]\n",
    "    if not batch: # If all items in the batch failed\n",
    "        return None, None \n",
    "    # Use default_collate for the valid items\n",
    "    return torch.utils.data.dataloader.default_collate(batch)\n",
    "\n",
    "\n",
    "# --- 2. Model Architecture (CNN + LSTM) ---\n",
    "class EEG_CNN_LSTM(nn.Module):\n",
    "    def __init__(self, num_classes, num_channels, sequence_length, lstm_hidden_size=128, num_lstm_layers=1):\n",
    "        super(EEG_CNN_LSTM, self).__init__()\n",
    "        self.num_channels = num_channels\n",
    "        self.sequence_length = sequence_length\n",
    "\n",
    "        # CNN part for spatial feature extraction\n",
    "        self.conv1 = nn.Conv1d(in_channels=num_channels, out_channels=32, kernel_size=3, stride=1, padding=1)\n",
    "        self.relu1 = nn.ReLU()\n",
    "        self.pool1 = nn.MaxPool1d(kernel_size=2, stride=2)\n",
    "        # Output of pool1: (batch, 32, sequence_length / 2)\n",
    "\n",
    "        self.conv2 = nn.Conv1d(in_channels=32, out_channels=64, kernel_size=3, stride=1, padding=1)\n",
    "        self.relu2 = nn.ReLU()\n",
    "        self.pool2 = nn.MaxPool1d(kernel_size=2, stride=2)\n",
    "        # Output of pool2: (batch, 64, sequence_length / 4)\n",
    "        \n",
    "        self.lstm_input_features = 64\n",
    "        # LSTM part for temporal feature extraction\n",
    "        self.lstm = nn.LSTM(input_size=self.lstm_input_features,\n",
    "                              hidden_size=lstm_hidden_size,\n",
    "                              num_layers=num_lstm_layers,\n",
    "                              batch_first=True) # batch_first=True means input/output shape is (batch, seq, feature)\n",
    "\n",
    "        # Fully connected layer for classification\n",
    "        self.fc = nn.Linear(lstm_hidden_size, num_classes)\n",
    "\n",
    "    def forward(self, x):\n",
    "        # x shape: (batch_size, num_channels, sequence_length)\n",
    "        \n",
    "        x = self.pool1(self.relu1(self.conv1(x)))\n",
    "        x = self.pool2(self.relu2(self.conv2(x)))\n",
    "        # x shape after CNN: (batch_size, 64, sequence_length / 4)\n",
    "\n",
    "        x = x.permute(0, 2, 1) # (batch_size, sequence_length / 4, 64)\n",
    "        \n",
    "        lstm_out, (h_n, c_n) = self.lstm(x)\n",
    "        # h_n shape: (num_lstm_layers, batch_size, lstm_hidden_size)\n",
    "        # We want the last layer's hidden state: h_n[-1] -> (batch_size, lstm_hidden_size)\n",
    "        x = h_n[-1] \n",
    "\n",
    "        x = self.fc(x)\n",
    "        # x shape: (batch_size, num_classes)\n",
    "        return x\n",
    "\n",
    "# --- 3. Training and Evaluation Functions ---\n",
    "def train_model(model, train_loader, criterion, optimizer, device, epoch_num, total_epochs):\n",
    "    model.train()\n",
    "    running_loss = 0.0\n",
    "    correct_predictions = 0\n",
    "    total_samples = 0\n",
    "\n",
    "    # Wrap train_loader with tqdm for a progress bar\n",
    "    progress_bar = tqdm(train_loader, desc=f\"Epoch {epoch_num+1}/{total_epochs} [Train]\", leave=False)\n",
    "    for inputs, labels in progress_bar:\n",
    "        if inputs is None or labels is None : # Handle cases where collate_fn returned None\n",
    "            continue # Skip this batch\n",
    "        inputs, labels = inputs.to(device), labels.to(device)\n",
    "\n",
    "        optimizer.zero_grad()\n",
    "        outputs = model(inputs)\n",
    "        loss = criterion(outputs, labels)\n",
    "        loss.backward()\n",
    "        optimizer.step()\n",
    "\n",
    "        running_loss += loss.item() * inputs.size(0)\n",
    "        _, predicted = torch.max(outputs.data, 1)\n",
    "        total_samples += labels.size(0)\n",
    "        correct_predictions += (predicted == labels).sum().item()\n",
    "        \n",
    "        # Update tqdm progress bar\n",
    "        progress_bar.set_postfix(loss=running_loss/total_samples if total_samples > 0 else 0, \n",
    "                                 acc=correct_predictions/total_samples if total_samples > 0 else 0)\n",
    "\n",
    "    if total_samples == 0: # All batches might have been skipped\n",
    "        return 0.0, 0.0\n",
    "\n",
    "    epoch_loss = running_loss / total_samples\n",
    "    epoch_acc = correct_predictions / total_samples\n",
    "    return epoch_loss, epoch_acc\n",
    "\n",
    "def evaluate_model(model, test_loader, criterion, device, epoch_num, total_epochs, eval_type=\"Val\"):\n",
    "    model.eval()\n",
    "    running_loss = 0.0\n",
    "    correct_predictions = 0\n",
    "    total_samples = 0\n",
    "    all_labels = []\n",
    "    all_predictions = []\n",
    "\n",
    "    # Wrap test_loader with tqdm for a progress bar\n",
    "    progress_bar = tqdm(test_loader, desc=f\"Epoch {epoch_num+1}/{total_epochs} [{eval_type}]\", leave=False)\n",
    "    with torch.no_grad():\n",
    "        for inputs, labels in progress_bar:\n",
    "            if inputs is None or labels is None :\n",
    "                continue # Skip this batch\n",
    "            inputs, labels = inputs.to(device), labels.to(device)\n",
    "\n",
    "            outputs = model(inputs)\n",
    "            loss = criterion(outputs, labels)\n",
    "\n",
    "            running_loss += loss.item() * inputs.size(0)\n",
    "            _, predicted = torch.max(outputs.data, 1)\n",
    "            total_samples += labels.size(0)\n",
    "            correct_predictions += (predicted == labels).sum().item()\n",
    "            \n",
    "            all_labels.extend(labels.cpu().numpy())\n",
    "            all_predictions.extend(predicted.cpu().numpy())\n",
    "\n",
    "            # Update tqdm progress bar\n",
    "            progress_bar.set_postfix(loss=running_loss/total_samples if total_samples > 0 else 0,\n",
    "                                     acc=correct_predictions/total_samples if total_samples > 0 else 0)\n",
    "\n",
    "    if total_samples == 0: # All batches might have been skipped\n",
    "        return 0.0, 0.0, [], []\n",
    "        \n",
    "    epoch_loss = running_loss / total_samples\n",
    "    epoch_acc = correct_predictions / total_samples\n",
    "    return epoch_loss, epoch_acc, all_labels, all_predictions\n",
    "\n",
    "def plot_confusion_matrix(cm, class_names, title='Confusion Matrix'):\n",
    "    plt.figure(figsize=(8, 6))\n",
    "    sns.heatmap(cm, annot=True, fmt='d', cmap='Blues', xticklabels=class_names, yticklabels=class_names)\n",
    "    plt.title(title)\n",
    "    plt.ylabel('True Label')\n",
    "    plt.xlabel('Predicted Label')\n",
    "    plt.tight_layout() # Adjust layout to prevent labels from being cut off\n",
    "    plt.show()\n",
    "\n",
    "# --- Main Execution ---\n",
    "if __name__ == '__main__':\n",
    "    # Set device\n",
    "    device = torch.device(\"cuda\" if torch.cuda.is_available() else \"cpu\")\n",
    "    print(f\"Using device: {device}\")\n",
    "\n",
    "    # Create dataset\n",
    "    print(\"Initializing dataset...\")\n",
    "    full_dataset = EEGDataset(data_root=DATA_ROOT, fixed_sequence_length=FIXED_SEQUENCE_LENGTH)\n",
    "\n",
    "    if not full_dataset.eeg_paths:\n",
    "        print(\"No data loaded. Exiting.\")\n",
    "        exit()\n",
    "        \n",
    "    # Split dataset\n",
    "    num_samples = len(full_dataset)\n",
    "    test_size = int(TEST_SPLIT_RATIO * num_samples)\n",
    "    train_size = num_samples - test_size\n",
    "    \n",
    "    if train_size <= 0 or test_size <= 0:\n",
    "        min_samples_needed = int(1 / TEST_SPLIT_RATIO) if TEST_SPLIT_RATIO > 0 else 2 # Basic check\n",
    "        print(f\"Dataset too small for splitting with ratio {TEST_SPLIT_RATIO}. Need at least {min_samples_needed} samples for a split.\")\n",
    "        if num_samples > 0:\n",
    "             train_dataset = full_dataset\n",
    "             # For evaluation, it's better to have a separate test set.\n",
    "             # If forced to use the same, be aware of inflated metrics.\n",
    "             # Consider a warning or different handling if this is not acceptable.\n",
    "             print(f\"Warning: Using all {num_samples} samples for training. No separate test set for validation during epoch. Final evaluation will be on this data.\")\n",
    "             # Create a DataLoader for the full dataset to be used as 'test_loader' for validation reports\n",
    "             test_dataset = full_dataset # This means val_loss/acc will be on training data if no proper split\n",
    "        else:\n",
    "            print(\"CRITICAL: Dataset is empty after initialization. Cannot proceed.\")\n",
    "            exit()\n",
    "    else:\n",
    "        train_dataset, test_dataset = random_split(full_dataset, [train_size, test_size])\n",
    "\n",
    "    print(f\"Number of training samples: {len(train_dataset)}\")\n",
    "    print(f\"Number of testing samples: {len(test_dataset)}\")\n",
    "\n",
    "    # Create data loaders\n",
    "    train_loader = DataLoader(train_dataset, batch_size=BATCH_SIZE, shuffle=True, collate_fn=custom_collate_fn, num_workers=0, pin_memory=True if device.type=='cuda' else False)\n",
    "    test_loader = DataLoader(test_dataset, batch_size=BATCH_SIZE, shuffle=False, collate_fn=custom_collate_fn, num_workers=0, pin_memory=True if device.type=='cuda' else False)\n",
    "\n",
    "    # Initialize model, criterion, optimizer\n",
    "    model = EEG_CNN_LSTM(num_classes=NUM_CLASSES, num_channels=NUM_CHANNELS, sequence_length=FIXED_SEQUENCE_LENGTH).to(device)\n",
    "    criterion = nn.CrossEntropyLoss()\n",
    "    optimizer = optim.Adam(model.parameters(), lr=LEARNING_RATE)\n",
    "\n",
    "    print(\"\\n--- Starting Training ---\")\n",
    "    # Overall progress bar for epochs\n",
    "    epoch_progress_bar = tqdm(range(NUM_EPOCHS), desc=\"Epochs\")\n",
    "    for epoch in epoch_progress_bar:\n",
    "        train_loss, train_acc = train_model(model, train_loader, criterion, optimizer, device, epoch, NUM_EPOCHS)\n",
    "        \n",
    "        # Update epoch progress bar postfix with training results\n",
    "        epoch_progress_bar.set_postfix(TrainLoss=f\"{train_loss:.4f}\", TrainAcc=f\"{train_acc:.4f}\")\n",
    "        print(f\"Epoch {epoch+1}/{NUM_EPOCHS} => Train Loss: {train_loss:.4f}, Train Acc: {train_acc:.4f}\", end=\"\")\n",
    "\n",
    "        # Evaluate on the test set (as validation) periodically\n",
    "        if (epoch + 1) % 5 == 0 or epoch == NUM_EPOCHS - 1:\n",
    "            val_loss, val_acc, _, _ = evaluate_model(model, test_loader, criterion, device, epoch, NUM_EPOCHS, eval_type=\"Val\")\n",
    "            print(f\" -- Val Loss: {val_loss:.4f}, Val Acc: {val_acc:.4f}\")\n",
    "            # Also update epoch_progress_bar if you want validation results there too\n",
    "            epoch_progress_bar.set_postfix(TrainLoss=f\"{train_loss:.4f}\", TrainAcc=f\"{train_acc:.4f}\", ValLoss=f\"{val_loss:.4f}\", ValAcc=f\"{val_acc:.4f}\")\n",
    "        else:\n",
    "            print() # Newline if no validation print\n",
    "\n",
    "    print(\"\\n--- Training Finished ---\")\n",
    "\n",
    "    # Evaluate the model on the test set\n",
    "    print(\"\\n--- Evaluating on Test Set ---\")\n",
    "    # Re-use evaluate_model, final evaluation on the test_loader\n",
    "    test_loss, test_acc, true_labels, predicted_labels = evaluate_model(model, test_loader, criterion, device, NUM_EPOCHS-1, NUM_EPOCHS, eval_type=\"Test\") # epoch_num is just for desc\n",
    "    print(f\"Final Test Loss: {test_loss:.4f}\")\n",
    "    print(f\"Final Test Accuracy: {test_acc:.4f}\")\n",
    "\n",
    "    if true_labels and predicted_labels: # Check if lists are not empty\n",
    "        # Classification Report\n",
    "        class_names = [f\"G{i+1}\" for i in range(NUM_CLASSES)] # G1, G2, G3, G4\n",
    "        print(\"\\nClassification Report:\")\n",
    "        print(classification_report(true_labels, predicted_labels, target_names=class_names, zero_division=0))\n",
    "\n",
    "        # Confusion Matrix\n",
    "        cm = confusion_matrix(true_labels, predicted_labels)\n",
    "        plot_confusion_matrix(cm, class_names=class_names, title=\"Test Set Confusion Matrix\")\n",
    "    else:\n",
    "        print(\"Could not generate classification report or confusion matrix due to lack of evaluation results (possibly all batches failed or test set was empty).\")\n",
    "\n",
    "    # Example of saving the model\n",
    "    # torch.save(model.state_dict(), 'eeg_emotion_model_v2.pth')\n",
    "    # print(\"Model saved to eeg_emotion_model_v2.pth\")\n"
   ]
  }
 ],
 "metadata": {
  "kernelspec": {
   "display_name": ".venv",
   "language": "python",
   "name": "python3"
  },
  "language_info": {
   "codemirror_mode": {
    "name": "ipython",
    "version": 3
   },
   "file_extension": ".py",
   "mimetype": "text/x-python",
   "name": "python",
   "nbconvert_exporter": "python",
   "pygments_lexer": "ipython3",
   "version": "3.12.10"
  }
 },
 "nbformat": 4,
 "nbformat_minor": 5
}
