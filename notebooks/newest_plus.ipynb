{
 "cells": [
  {
   "cell_type": "markdown",
   "id": "a3a60650",
   "metadata": {},
   "source": [
    "# EEG Emotion Recognition on GAMEEMO\n",
    "\n",
    "This notebook trains a lightweight **MSDCGTNet** model on the GAMEEMO EEG dataset to classify four game‑evoked emotions:\n",
    "\n",
    "| Label | ID | Description |\n",
    "|-------|----|-------------|\n",
    "| 0 | G1 | Boring |\n",
    "| 1 | G2 | Calm |\n",
    "| 2 | G3 | Horror |\n",
    "| 3 | G4 | Funny |\n",
    "\n",
    "Run the notebook top‑to‑bottom to:\n",
    "\n",
    "1. Download and organise the data  \n",
    "2. Build subject‑wise train / validation splits  \n",
    "3. Train MSDCGTNet with early stopping & mixed precision  \n",
    "4. Inspect metrics and a confusion matrix  "
   ]
  },
  {
   "cell_type": "markdown",
   "id": "c82de814",
   "metadata": {},
   "source": [
    "## About the GAMEEMO dataset\n",
    "\n",
    "* **28 subjects** recorded with a 14‑channel Emotiv Epoc + headset  \n",
    "* **4 five‑minute sessions** per subject – each labelled *Boring*, *Calm*, *Horror* or *Funny*  \n",
    "* Data provided as **pre‑processed CSV** (clean, notch‑filtered, 256 Hz)\n",
    "\n",
    "The goal is to recognise the game‑elicited emotion from raw EEG.  \n",
    "We evaluate with a **subject‑wise split** to report true generalisation to unseen people."
   ]
  },
  {
   "cell_type": "markdown",
   "id": "7b129672",
   "metadata": {},
   "source": [
    "## 0 Setup & data download"
   ]
  },
  {
   "cell_type": "code",
   "execution_count": 1,
   "id": "82a06a52",
   "metadata": {},
   "outputs": [
    {
     "name": "stdout",
     "output_type": "stream",
     "text": [
      "Dataset already present - skipping download.\n"
     ]
    }
   ],
   "source": [
    "from pathlib import Path\n",
    "import subprocess, sys\n",
    "\n",
    "DATA_ROOT = Path(\"../data/GAMEEMO\")\n",
    "DATA_ROOT.mkdir(parents=True, exist_ok=True)\n",
    "\n",
    "if not any(DATA_ROOT.rglob(\"*.csv\")):\n",
    "    print(\"Downloading GAMEEMO\")\n",
    "    try:\n",
    "        subprocess.run([\n",
    "            \"kaggle\", \"datasets\", \"download\",\n",
    "            \"-d\", \"sigfest/database-for-emotion-recognition-system-gameemo\",\n",
    "            \"-p\", str(DATA_ROOT.parent), \"--unzip\",\n",
    "        ], check=True)\n",
    "    except Exception as e:\n",
    "        sys.stderr.write(f\"⚠️ Kaggle download failed: {e}\\n\")\n",
    "else:\n",
    "    print(\"Dataset already present - skipping download.\")"
   ]
  },
  {
   "cell_type": "code",
   "execution_count": 2,
   "id": "25b9b7a8",
   "metadata": {},
   "outputs": [
    {
     "name": "stdout",
     "output_type": "stream",
     "text": [
      "Using device: cuda\n",
      "Initializing dataset...\n",
      "Found 112 recordings from 28 subjects.\n",
      "Number of training samples: 90\n",
      "Number of testing samples: 22\n"
     ]
    },
    {
     "name": "stderr",
     "output_type": "stream",
     "text": [
      "c:\\Users\\dmrom\\emotion-recognition\\.venv\\Lib\\site-packages\\torch\\optim\\lr_scheduler.py:62: UserWarning: The verbose parameter is deprecated. Please use get_last_lr() to access the learning rate.\n",
      "  warnings.warn(\n"
     ]
    },
    {
     "name": "stdout",
     "output_type": "stream",
     "text": [
      "\n",
      "--- Starting Training ---\n"
     ]
    },
    {
     "name": "stderr",
     "output_type": "stream",
     "text": [
      "                                                                                  \r"
     ]
    },
    {
     "name": "stdout",
     "output_type": "stream",
     "text": [
      "Epoch 1/50 => Train Loss: 1.3940, Train Acc: 0.2333 | Val Loss: 1.3811, Val Acc: 0.3182 | LR: 1.0e-03\n"
     ]
    },
    {
     "name": "stderr",
     "output_type": "stream",
     "text": [
      "                                                                                  \r"
     ]
    },
    {
     "name": "stdout",
     "output_type": "stream",
     "text": [
      "Epoch 2/50 => Train Loss: 1.3558, Train Acc: 0.2889 | Val Loss: 1.3798, Val Acc: 0.3636 | LR: 1.0e-03\n"
     ]
    },
    {
     "name": "stderr",
     "output_type": "stream",
     "text": [
      "                                                                                  \r"
     ]
    },
    {
     "name": "stdout",
     "output_type": "stream",
     "text": [
      "Epoch 3/50 => Train Loss: 1.3229, Train Acc: 0.3667 | Val Loss: 1.3840, Val Acc: 0.2273 | LR: 1.0e-03\n"
     ]
    },
    {
     "name": "stderr",
     "output_type": "stream",
     "text": [
      "                                                                                  \r"
     ]
    },
    {
     "name": "stdout",
     "output_type": "stream",
     "text": [
      "Epoch 4/50 => Train Loss: 1.2802, Train Acc: 0.4000 | Val Loss: 1.3892, Val Acc: 0.1818 | LR: 1.0e-03\n"
     ]
    },
    {
     "name": "stderr",
     "output_type": "stream",
     "text": [
      "                                                                                  \r"
     ]
    },
    {
     "name": "stdout",
     "output_type": "stream",
     "text": [
      "Epoch 5/50 => Train Loss: 1.2527, Train Acc: 0.4333 | Val Loss: 1.3535, Val Acc: 0.2727 | LR: 1.0e-03\n"
     ]
    },
    {
     "name": "stderr",
     "output_type": "stream",
     "text": [
      "                                                                                  \r"
     ]
    },
    {
     "name": "stdout",
     "output_type": "stream",
     "text": [
      "Epoch 6/50 => Train Loss: 1.1701, Train Acc: 0.5556 | Val Loss: 1.3171, Val Acc: 0.4545 | LR: 1.0e-03\n"
     ]
    },
    {
     "name": "stderr",
     "output_type": "stream",
     "text": [
      "                                                                                  \r"
     ]
    },
    {
     "name": "stdout",
     "output_type": "stream",
     "text": [
      "Epoch 7/50 => Train Loss: 1.1168, Train Acc: 0.6333 | Val Loss: 1.2838, Val Acc: 0.5455 | LR: 1.0e-03\n"
     ]
    },
    {
     "name": "stderr",
     "output_type": "stream",
     "text": [
      "                                                                                \r"
     ]
    },
    {
     "name": "stdout",
     "output_type": "stream",
     "text": [
      "Epoch 8/50 => Train Loss: 1.0284, Train Acc: 0.6222 | Val Loss: 1.2380, Val Acc: 0.5000 | LR: 1.0e-03\n"
     ]
    },
    {
     "name": "stderr",
     "output_type": "stream",
     "text": [
      "                                                                                  \r"
     ]
    },
    {
     "name": "stdout",
     "output_type": "stream",
     "text": [
      "Epoch 9/50 => Train Loss: 0.9706, Train Acc: 0.6444 | Val Loss: 1.1897, Val Acc: 0.6364 | LR: 1.0e-03\n"
     ]
    },
    {
     "name": "stderr",
     "output_type": "stream",
     "text": [
      "                                                                                  \r"
     ]
    },
    {
     "name": "stdout",
     "output_type": "stream",
     "text": [
      "Epoch 10/50 => Train Loss: 0.8961, Train Acc: 0.6333 | Val Loss: 1.1891, Val Acc: 0.5455 | LR: 1.0e-03\n"
     ]
    },
    {
     "name": "stderr",
     "output_type": "stream",
     "text": [
      "                                                                                  \r"
     ]
    },
    {
     "name": "stdout",
     "output_type": "stream",
     "text": [
      "Epoch 11/50 => Train Loss: 0.7553, Train Acc: 0.7111 | Val Loss: 1.0924, Val Acc: 0.6364 | LR: 1.0e-03\n"
     ]
    },
    {
     "name": "stderr",
     "output_type": "stream",
     "text": [
      "                                                                                  \r"
     ]
    },
    {
     "name": "stdout",
     "output_type": "stream",
     "text": [
      "Epoch 12/50 => Train Loss: 0.7058, Train Acc: 0.7444 | Val Loss: 1.0499, Val Acc: 0.5909 | LR: 1.0e-03\n"
     ]
    },
    {
     "name": "stderr",
     "output_type": "stream",
     "text": [
      "                                                                                  \r"
     ]
    },
    {
     "name": "stdout",
     "output_type": "stream",
     "text": [
      "Epoch 13/50 => Train Loss: 0.5893, Train Acc: 0.8000 | Val Loss: 0.9700, Val Acc: 0.6364 | LR: 1.0e-03\n"
     ]
    },
    {
     "name": "stderr",
     "output_type": "stream",
     "text": [
      "                                                                                  \r"
     ]
    },
    {
     "name": "stdout",
     "output_type": "stream",
     "text": [
      "Epoch 14/50 => Train Loss: 0.5636, Train Acc: 0.8000 | Val Loss: 1.1985, Val Acc: 0.5455 | LR: 1.0e-03\n"
     ]
    },
    {
     "name": "stderr",
     "output_type": "stream",
     "text": [
      "                                                                                   \r"
     ]
    },
    {
     "name": "stdout",
     "output_type": "stream",
     "text": [
      "Epoch 15/50 => Train Loss: 0.5451, Train Acc: 0.8222 | Val Loss: 0.8539, Val Acc: 0.6818 | LR: 1.0e-03\n"
     ]
    },
    {
     "name": "stderr",
     "output_type": "stream",
     "text": [
      "                                                                                   \r"
     ]
    },
    {
     "name": "stdout",
     "output_type": "stream",
     "text": [
      "Epoch 16/50 => Train Loss: 0.4409, Train Acc: 0.8667 | Val Loss: 0.8662, Val Acc: 0.6364 | LR: 1.0e-03\n"
     ]
    },
    {
     "name": "stderr",
     "output_type": "stream",
     "text": [
      "                                                                                   \r"
     ]
    },
    {
     "name": "stdout",
     "output_type": "stream",
     "text": [
      "Epoch 17/50 => Train Loss: 0.4557, Train Acc: 0.8333 | Val Loss: 0.6958, Val Acc: 0.6818 | LR: 1.0e-03\n"
     ]
    },
    {
     "name": "stderr",
     "output_type": "stream",
     "text": [
      "                                                                                   \r"
     ]
    },
    {
     "name": "stdout",
     "output_type": "stream",
     "text": [
      "Epoch 18/50 => Train Loss: 0.4276, Train Acc: 0.8333 | Val Loss: 0.6320, Val Acc: 0.7727 | LR: 1.0e-03\n"
     ]
    },
    {
     "name": "stderr",
     "output_type": "stream",
     "text": [
      "                                                                                   \r"
     ]
    },
    {
     "name": "stdout",
     "output_type": "stream",
     "text": [
      "Epoch 19/50 => Train Loss: 0.3446, Train Acc: 0.9000 | Val Loss: 0.6063, Val Acc: 0.8636 | LR: 1.0e-03\n"
     ]
    },
    {
     "name": "stderr",
     "output_type": "stream",
     "text": [
      "                                                                                   \r"
     ]
    },
    {
     "name": "stdout",
     "output_type": "stream",
     "text": [
      "Epoch 20/50 => Train Loss: 0.3772, Train Acc: 0.8333 | Val Loss: 0.7791, Val Acc: 0.7273 | LR: 1.0e-03\n"
     ]
    },
    {
     "name": "stderr",
     "output_type": "stream",
     "text": [
      "                                                                                   \r"
     ]
    },
    {
     "name": "stdout",
     "output_type": "stream",
     "text": [
      "Epoch 21/50 => Train Loss: 0.2789, Train Acc: 0.9111 | Val Loss: 0.5889, Val Acc: 0.7727 | LR: 1.0e-03\n"
     ]
    },
    {
     "name": "stderr",
     "output_type": "stream",
     "text": [
      "                                                                                   \r"
     ]
    },
    {
     "name": "stdout",
     "output_type": "stream",
     "text": [
      "Epoch 22/50 => Train Loss: 0.3461, Train Acc: 0.8667 | Val Loss: 0.4531, Val Acc: 0.8636 | LR: 1.0e-03\n"
     ]
    },
    {
     "name": "stderr",
     "output_type": "stream",
     "text": [
      "                                                                                   \r"
     ]
    },
    {
     "name": "stdout",
     "output_type": "stream",
     "text": [
      "Epoch 23/50 => Train Loss: 0.2421, Train Acc: 0.9333 | Val Loss: 0.5396, Val Acc: 0.8636 | LR: 1.0e-03\n"
     ]
    },
    {
     "name": "stderr",
     "output_type": "stream",
     "text": [
      "                                                                                   \r"
     ]
    },
    {
     "name": "stdout",
     "output_type": "stream",
     "text": [
      "Epoch 24/50 => Train Loss: 0.2446, Train Acc: 0.9333 | Val Loss: 0.5233, Val Acc: 0.9091 | LR: 1.0e-03\n"
     ]
    },
    {
     "name": "stderr",
     "output_type": "stream",
     "text": [
      "                                                                                   \r"
     ]
    },
    {
     "name": "stdout",
     "output_type": "stream",
     "text": [
      "Epoch 25/50 => Train Loss: 0.3125, Train Acc: 0.9111 | Val Loss: 0.4910, Val Acc: 0.9091 | LR: 1.0e-03\n"
     ]
    },
    {
     "name": "stderr",
     "output_type": "stream",
     "text": [
      "                                                                                   \r"
     ]
    },
    {
     "name": "stdout",
     "output_type": "stream",
     "text": [
      "Epoch 26/50 => Train Loss: 0.2207, Train Acc: 0.9444 | Val Loss: 0.3455, Val Acc: 0.9545 | LR: 1.0e-03\n"
     ]
    },
    {
     "name": "stderr",
     "output_type": "stream",
     "text": [
      "                                                                                   \r"
     ]
    },
    {
     "name": "stdout",
     "output_type": "stream",
     "text": [
      "Epoch 27/50 => Train Loss: 0.2279, Train Acc: 0.9222 | Val Loss: 0.3911, Val Acc: 0.9091 | LR: 1.0e-03\n"
     ]
    },
    {
     "name": "stderr",
     "output_type": "stream",
     "text": [
      "                                                                                   \r"
     ]
    },
    {
     "name": "stdout",
     "output_type": "stream",
     "text": [
      "Epoch 28/50 => Train Loss: 0.1455, Train Acc: 0.9667 | Val Loss: 0.3125, Val Acc: 0.9091 | LR: 1.0e-03\n"
     ]
    },
    {
     "name": "stderr",
     "output_type": "stream",
     "text": [
      "                                                                                   \r"
     ]
    },
    {
     "name": "stdout",
     "output_type": "stream",
     "text": [
      "Epoch 29/50 => Train Loss: 0.2226, Train Acc: 0.9333 | Val Loss: 0.3824, Val Acc: 0.8636 | LR: 1.0e-03\n"
     ]
    },
    {
     "name": "stderr",
     "output_type": "stream",
     "text": [
      "                                                                                   \r"
     ]
    },
    {
     "name": "stdout",
     "output_type": "stream",
     "text": [
      "Epoch 30/50 => Train Loss: 0.2131, Train Acc: 0.9222 | Val Loss: 0.3920, Val Acc: 0.8636 | LR: 1.0e-03\n"
     ]
    },
    {
     "name": "stderr",
     "output_type": "stream",
     "text": [
      "                                                                                   \r"
     ]
    },
    {
     "name": "stdout",
     "output_type": "stream",
     "text": [
      "Epoch 31/50 => Train Loss: 0.2045, Train Acc: 0.9333 | Val Loss: 0.4124, Val Acc: 0.8182 | LR: 1.0e-03\n"
     ]
    },
    {
     "name": "stderr",
     "output_type": "stream",
     "text": [
      "                                                                                   \r"
     ]
    },
    {
     "name": "stdout",
     "output_type": "stream",
     "text": [
      "Epoch 32/50 => Train Loss: 0.1851, Train Acc: 0.9444 | Val Loss: 0.4577, Val Acc: 0.8182 | LR: 1.0e-03\n"
     ]
    },
    {
     "name": "stderr",
     "output_type": "stream",
     "text": [
      "                                                                                   \r"
     ]
    },
    {
     "name": "stdout",
     "output_type": "stream",
     "text": [
      "Epoch 33/50 => Train Loss: 0.0949, Train Acc: 1.0000 | Val Loss: 0.4512, Val Acc: 0.8636 | LR: 2.0e-04\n"
     ]
    },
    {
     "name": "stderr",
     "output_type": "stream",
     "text": [
      "                                                                                   \r"
     ]
    },
    {
     "name": "stdout",
     "output_type": "stream",
     "text": [
      "Epoch 34/50 => Train Loss: 0.1285, Train Acc: 0.9778 | Val Loss: 0.4314, Val Acc: 0.8636 | LR: 2.0e-04\n"
     ]
    },
    {
     "name": "stderr",
     "output_type": "stream",
     "text": [
      "                                                                                   \r"
     ]
    },
    {
     "name": "stdout",
     "output_type": "stream",
     "text": [
      "Epoch 35/50 => Train Loss: 0.0846, Train Acc: 1.0000 | Val Loss: 0.4136, Val Acc: 0.8636 | LR: 2.0e-04\n",
      "\n",
      "Early stopping triggered after 35 epochs due to no improvement in validation loss for 7 consecutive epochs.\n",
      "Best validation loss achieved: 0.3125\n",
      "\n",
      "--- Training Finished ---\n",
      "Loading best model state for final evaluation.\n",
      "\n",
      "--- Evaluating on Test Set (with best model) ---\n"
     ]
    },
    {
     "name": "stderr",
     "output_type": "stream",
     "text": [
      "                                                                             \r"
     ]
    },
    {
     "name": "stdout",
     "output_type": "stream",
     "text": [
      "Final Test Loss: 0.3125\n",
      "Final Test Accuracy: 0.9091\n",
      "\n",
      "Classification Report:\n",
      "              precision    recall  f1-score   support\n",
      "\n",
      "          G1       1.00      1.00      1.00         4\n",
      "          G2       0.88      0.88      0.88         8\n",
      "          G3       0.86      0.86      0.86         7\n",
      "          G4       1.00      1.00      1.00         3\n",
      "\n",
      "    accuracy                           0.91        22\n",
      "   macro avg       0.93      0.93      0.93        22\n",
      "weighted avg       0.91      0.91      0.91        22\n",
      "\n"
     ]
    },
    {
     "data": {
      "image/png": "[encoded data removed]",
      "text/plain": [
       "<Figure size 800x600 with 2 Axes>"
      ]
     },
     "metadata": {},
     "output_type": "display_data"
    }
   ],
   "source": [
    "import torch\n",
    "import torch.nn as nn\n",
    "import torch.optim as optim\n",
    "from torch.utils.data import Dataset, DataLoader, random_split\n",
    "from torch.optim.lr_scheduler import ReduceLROnPlateau # Added for LR scheduling\n",
    "from pathlib import Path\n",
    "import re\n",
    "import pandas as pd\n",
    "import numpy as np\n",
    "from sklearn.metrics import confusion_matrix, classification_report\n",
    "import matplotlib.pyplot as plt\n",
    "import seaborn as sns\n",
    "from tqdm import tqdm\n",
    "import copy # For saving best model state in early stopping\n",
    "\n",
    "# --- Configuration ---\n",
    "DATA_ROOT = Path(\"../data/GAMEEMO\") # User updated path\n",
    "NUM_EPOCHS = 50 # Increased epochs as early stopping will manage it\n",
    "BATCH_SIZE = 16 \n",
    "LEARNING_RATE = 0.001\n",
    "TEST_SPLIT_RATIO = 0.2\n",
    "NUM_CLASSES = 4 \n",
    "NUM_CHANNELS = 14 \n",
    "FIXED_SEQUENCE_LENGTH = 3000 \n",
    "\n",
    "# Early Stopping Configuration\n",
    "EARLY_STOPPING_PATIENCE = 7 # Number of epochs to wait for improvement before stopping\n",
    "EARLY_STOPPING_MIN_DELTA = 0.001 # Minimum change to qualify as an improvement\n",
    "\n",
    "# --- 1. Data Loading and Preprocessing ---\n",
    "\n",
    "def g_label(fn_name):\n",
    "    \"\"\"Extracts game label (0-3) from a filename.\"\"\"\n",
    "    match = re.search(r\"G([1-4])\", fn_name)\n",
    "    if match:\n",
    "        return int(match.group(1)) - 1\n",
    "    raise ValueError(f\"Could not extract label from {fn_name}\")\n",
    "\n",
    "class EEGDataset(Dataset):\n",
    "    \"\"\"\n",
    "    Custom PyTorch Dataset for GAMEEMO EEG data.\n",
    "    \"\"\"\n",
    "    def __init__(self, data_root, fixed_sequence_length, transform=None):\n",
    "        self.data_root = Path(data_root)\n",
    "        self.fixed_sequence_length = fixed_sequence_length\n",
    "        self.transform = transform\n",
    "        self.eeg_paths = []\n",
    "        self.labels = []\n",
    "        self._load_data()\n",
    "\n",
    "    def _load_data(self):\n",
    "        \"\"\"Loads all EEG file paths and their corresponding labels.\"\"\"\n",
    "        # print(f\"Scanning data root: {self.data_root.resolve()}\") # Reduced verbosity\n",
    "        if not self.data_root.exists():\n",
    "            print(f\"ERROR: Data root directory '{self.data_root.resolve()}' does not exist.\")\n",
    "            return\n",
    "\n",
    "        subject_count = 0\n",
    "        for subj_dir in self.data_root.iterdir():\n",
    "            if subj_dir.is_dir() and re.fullmatch(r\"\\(S\\d{2}\\)\", subj_dir.name):\n",
    "                subject_count +=1\n",
    "                csv_dir = subj_dir / \"Preprocessed EEG Data\" / \".csv format\"\n",
    "                if csv_dir.exists():\n",
    "                    for p in csv_dir.glob(\"*.csv\"):\n",
    "                        try:\n",
    "                            label = g_label(p.name)\n",
    "                            self.eeg_paths.append(p)\n",
    "                            self.labels.append(label)\n",
    "                        except ValueError:\n",
    "                            pass \n",
    "        \n",
    "        if subject_count == 0:\n",
    "            print(f\"Warning: No subject directories like (SXX) found in {self.data_root.resolve()}\")\n",
    "        print(f\"Found {len(self.eeg_paths)} recordings from {subject_count} subjects.\")\n",
    "        if not self.eeg_paths:\n",
    "            print(\"CRITICAL: No EEG files were found. Please check the DATA_ROOT path and dataset structure.\")\n",
    "\n",
    "    def __len__(self):\n",
    "        return len(self.eeg_paths)\n",
    "\n",
    "    def __getitem__(self, idx):\n",
    "        file_path = self.eeg_paths[idx]\n",
    "        label = self.labels[idx]\n",
    "\n",
    "        try:\n",
    "            df = pd.read_csv(file_path, header=0) \n",
    "\n",
    "            if df.shape[1] == NUM_CHANNELS + 1:\n",
    "                df = df.iloc[:, :NUM_CHANNELS]\n",
    "            elif df.shape[1] == NUM_CHANNELS:\n",
    "                pass\n",
    "            else:\n",
    "                return None, None\n",
    "\n",
    "            eeg_data = df.values.astype(np.float32)\n",
    "\n",
    "            if eeg_data.shape[0] > self.fixed_sequence_length:\n",
    "                eeg_data = eeg_data[:self.fixed_sequence_length, :]\n",
    "            else:\n",
    "                padding_rows = self.fixed_sequence_length - eeg_data.shape[0]\n",
    "                if padding_rows > 0: \n",
    "                    padding = np.zeros((padding_rows, NUM_CHANNELS), dtype=np.float32)\n",
    "                    eeg_data = np.vstack((eeg_data, padding))\n",
    "            \n",
    "            if eeg_data.shape[1] != NUM_CHANNELS:\n",
    "                return None, None\n",
    "\n",
    "            eeg_data = eeg_data.T \n",
    "\n",
    "            if self.transform:\n",
    "                eeg_data = self.transform(eeg_data)\n",
    "\n",
    "            return torch.tensor(eeg_data, dtype=torch.float32), torch.tensor(label, dtype=torch.long)\n",
    "\n",
    "        except pd.errors.EmptyDataError:\n",
    "            return None, None\n",
    "        except Exception: \n",
    "            return None, None\n",
    "\n",
    "def custom_collate_fn(batch):\n",
    "    \"\"\"\n",
    "    Collate function to filter out None items from the batch.\n",
    "    \"\"\"\n",
    "    batch = [item for item in batch if item[0] is not None and item[1] is not None]\n",
    "    if not batch: \n",
    "        return None, None \n",
    "    return torch.utils.data.dataloader.default_collate(batch)\n",
    "\n",
    "\n",
    "# --- 2. Model Architecture (CNN + LSTM) ---\n",
    "class EEG_CNN_LSTM(nn.Module):\n",
    "    def __init__(self, num_classes, num_channels, sequence_length, lstm_hidden_size=128, num_lstm_layers=1, dropout_rate=0.5):\n",
    "        super(EEG_CNN_LSTM, self).__init__()\n",
    "        self.num_channels = num_channels\n",
    "        self.sequence_length = sequence_length\n",
    "\n",
    "        # CNN part\n",
    "        self.conv1 = nn.Conv1d(in_channels=num_channels, out_channels=32, kernel_size=3, stride=1, padding=1)\n",
    "        self.bn1 = nn.BatchNorm1d(32) # Added BatchNorm\n",
    "        self.relu1 = nn.ReLU()\n",
    "        self.pool1 = nn.MaxPool1d(kernel_size=2, stride=2)\n",
    "        self.dropout_cnn = nn.Dropout(dropout_rate / 2) # Dropout in CNN\n",
    "\n",
    "        self.conv2 = nn.Conv1d(in_channels=32, out_channels=64, kernel_size=3, stride=1, padding=1)\n",
    "        self.bn2 = nn.BatchNorm1d(64) # Added BatchNorm\n",
    "        self.relu2 = nn.ReLU()\n",
    "        self.pool2 = nn.MaxPool1d(kernel_size=2, stride=2)\n",
    "        \n",
    "        self.lstm_input_features = 64\n",
    "        # LSTM part\n",
    "        self.lstm = nn.LSTM(input_size=self.lstm_input_features,\n",
    "                              hidden_size=lstm_hidden_size,\n",
    "                              num_layers=num_lstm_layers,\n",
    "                              batch_first=True,\n",
    "                              dropout=dropout_rate if num_lstm_layers > 1 else 0) # LSTM dropout if multiple layers\n",
    "\n",
    "        # FC part\n",
    "        self.dropout_fc = nn.Dropout(dropout_rate) # Dropout before FC\n",
    "        self.fc = nn.Linear(lstm_hidden_size, num_classes)\n",
    "\n",
    "    def forward(self, x):\n",
    "        # x shape: (batch_size, num_channels, sequence_length)\n",
    "        \n",
    "        x = self.pool1(self.relu1(self.bn1(self.conv1(x))))\n",
    "        x = self.dropout_cnn(x)\n",
    "        x = self.pool2(self.relu2(self.bn2(self.conv2(x))))\n",
    "        \n",
    "        x = x.permute(0, 2, 1) # (batch_size, sequence_length / 4, 64)\n",
    "        \n",
    "        lstm_out, (h_n, c_n) = self.lstm(x)\n",
    "        x = h_n[-1] \n",
    "\n",
    "        x = self.dropout_fc(x)\n",
    "        x = self.fc(x)\n",
    "        return x\n",
    "\n",
    "# --- 3. Training and Evaluation Functions ---\n",
    "def train_model(model, train_loader, criterion, optimizer, device):\n",
    "    model.train()\n",
    "    running_loss = 0.0\n",
    "    correct_predictions = 0\n",
    "    total_samples = 0\n",
    "\n",
    "    progress_bar = tqdm(train_loader, desc=\"Training\", leave=False, unit=\"batch\")\n",
    "    for inputs, labels in progress_bar:\n",
    "        if inputs is None or labels is None : \n",
    "            continue \n",
    "        inputs, labels = inputs.to(device), labels.to(device)\n",
    "\n",
    "        optimizer.zero_grad()\n",
    "        outputs = model(inputs)\n",
    "        loss = criterion(outputs, labels)\n",
    "        loss.backward()\n",
    "        optimizer.step()\n",
    "\n",
    "        running_loss += loss.item() * inputs.size(0)\n",
    "        _, predicted = torch.max(outputs.data, 1)\n",
    "        total_samples += labels.size(0)\n",
    "        correct_predictions += (predicted == labels).sum().item()\n",
    "        \n",
    "        if total_samples > 0:\n",
    "            progress_bar.set_postfix(loss=running_loss/total_samples, acc=correct_predictions/total_samples)\n",
    "\n",
    "    if total_samples == 0:\n",
    "        return 0.0, 0.0\n",
    "\n",
    "    epoch_loss = running_loss / total_samples\n",
    "    epoch_acc = correct_predictions / total_samples\n",
    "    return epoch_loss, epoch_acc\n",
    "\n",
    "def evaluate_model(model, val_loader, criterion, device, eval_type=\"Validation\"):\n",
    "    model.eval()\n",
    "    running_loss = 0.0\n",
    "    correct_predictions = 0\n",
    "    total_samples = 0\n",
    "    all_labels = []\n",
    "    all_predictions = []\n",
    "\n",
    "    progress_bar = tqdm(val_loader, desc=eval_type, leave=False, unit=\"batch\")\n",
    "    with torch.no_grad():\n",
    "        for inputs, labels in progress_bar:\n",
    "            if inputs is None or labels is None :\n",
    "                continue \n",
    "            inputs, labels = inputs.to(device), labels.to(device)\n",
    "\n",
    "            outputs = model(inputs)\n",
    "            loss = criterion(outputs, labels)\n",
    "\n",
    "            running_loss += loss.item() * inputs.size(0)\n",
    "            _, predicted = torch.max(outputs.data, 1)\n",
    "            total_samples += labels.size(0)\n",
    "            correct_predictions += (predicted == labels).sum().item()\n",
    "            \n",
    "            all_labels.extend(labels.cpu().numpy())\n",
    "            all_predictions.extend(predicted.cpu().numpy())\n",
    "\n",
    "            if total_samples > 0:\n",
    "                progress_bar.set_postfix(loss=running_loss/total_samples, acc=correct_predictions/total_samples)\n",
    "    \n",
    "    if total_samples == 0:\n",
    "        return 0.0, 0.0, [], []\n",
    "        \n",
    "    epoch_loss = running_loss / total_samples\n",
    "    epoch_acc = correct_predictions / total_samples\n",
    "    return epoch_loss, epoch_acc, all_labels, all_predictions\n",
    "\n",
    "def plot_confusion_matrix(cm, class_names, title='Confusion Matrix'):\n",
    "    plt.figure(figsize=(8, 6))\n",
    "    sns.heatmap(cm, annot=True, fmt='d', cmap='Blues', xticklabels=class_names, yticklabels=class_names)\n",
    "    plt.title(title)\n",
    "    plt.ylabel('True Label')\n",
    "    plt.xlabel('Predicted Label')\n",
    "    plt.tight_layout() \n",
    "    plt.show()\n",
    "\n",
    "# --- Main Execution ---\n",
    "if __name__ == '__main__':\n",
    "    device = torch.device(\"cuda\" if torch.cuda.is_available() else \"cpu\")\n",
    "    print(f\"Using device: {device}\")\n",
    "\n",
    "    print(\"Initializing dataset...\")\n",
    "    full_dataset = EEGDataset(data_root=DATA_ROOT, fixed_sequence_length=FIXED_SEQUENCE_LENGTH)\n",
    "\n",
    "    if not full_dataset.eeg_paths:\n",
    "        print(\"No data loaded. Exiting.\")\n",
    "        exit()\n",
    "        \n",
    "    num_samples = len(full_dataset)\n",
    "    test_size = int(TEST_SPLIT_RATIO * num_samples)\n",
    "    train_size = num_samples - test_size\n",
    "    \n",
    "    if train_size <= 0 or test_size <= 0:\n",
    "        min_samples_needed = int(1 / TEST_SPLIT_RATIO) if TEST_SPLIT_RATIO > 0 else 2\n",
    "        print(f\"Dataset too small for splitting with ratio {TEST_SPLIT_RATIO}. Need at least {min_samples_needed} samples.\")\n",
    "        if num_samples > 0:\n",
    "             train_dataset = full_dataset\n",
    "             test_dataset = full_dataset \n",
    "             print(f\"Warning: Using all {num_samples} samples for training and testing.\")\n",
    "        else:\n",
    "            print(\"CRITICAL: Dataset is empty. Cannot proceed.\")\n",
    "            exit()\n",
    "    else:\n",
    "        train_dataset, test_dataset = random_split(full_dataset, [train_size, test_size])\n",
    "\n",
    "    print(f\"Number of training samples: {len(train_dataset)}\")\n",
    "    print(f\"Number of testing samples: {len(test_dataset)}\")\n",
    "\n",
    "    # User mentioned num_workers=0 was necessary\n",
    "    num_workers = 0 \n",
    "    train_loader = DataLoader(train_dataset, batch_size=BATCH_SIZE, shuffle=True, collate_fn=custom_collate_fn, num_workers=num_workers, pin_memory=True if device.type=='cuda' else False)\n",
    "    # For validation/test, shuffle is typically False\n",
    "    val_loader = DataLoader(test_dataset, batch_size=BATCH_SIZE, shuffle=False, collate_fn=custom_collate_fn, num_workers=num_workers, pin_memory=True if device.type=='cuda' else False)\n",
    "\n",
    "    model = EEG_CNN_LSTM(num_classes=NUM_CLASSES, num_channels=NUM_CHANNELS, sequence_length=FIXED_SEQUENCE_LENGTH, dropout_rate=0.5).to(device)\n",
    "    criterion = nn.CrossEntropyLoss()\n",
    "    optimizer = optim.Adam(model.parameters(), lr=LEARNING_RATE)\n",
    "    \n",
    "    # Learning Rate Scheduler\n",
    "    scheduler = ReduceLROnPlateau(optimizer, mode='min', factor=0.2, patience=3, verbose=True, min_lr=1e-6)\n",
    "\n",
    "    # Early Stopping initialization\n",
    "    best_val_loss = float('inf')\n",
    "    epochs_no_improve = 0\n",
    "    best_model_state = None # To store the state_dict of the best model\n",
    "\n",
    "    print(\"\\n--- Starting Training ---\")\n",
    "    for epoch in range(NUM_EPOCHS):\n",
    "        train_loss, train_acc = train_model(model, train_loader, criterion, optimizer, device)\n",
    "        val_loss, val_acc, _, _ = evaluate_model(model, val_loader, criterion, device, eval_type=\"Validation\")\n",
    "\n",
    "        current_lr = optimizer.param_groups[0]['lr']\n",
    "        print(f\"Epoch {epoch+1}/{NUM_EPOCHS} => \"\n",
    "              f\"Train Loss: {train_loss:.4f}, Train Acc: {train_acc:.4f} | \"\n",
    "              f\"Val Loss: {val_loss:.4f}, Val Acc: {val_acc:.4f} | \"\n",
    "              f\"LR: {current_lr:.1e}\")\n",
    "\n",
    "        # LR Scheduler step (based on validation loss)\n",
    "        scheduler.step(val_loss)\n",
    "\n",
    "        # Early Stopping check\n",
    "        if val_loss < best_val_loss - EARLY_STOPPING_MIN_DELTA:\n",
    "            best_val_loss = val_loss\n",
    "            epochs_no_improve = 0\n",
    "            best_model_state = copy.deepcopy(model.state_dict()) # Save the best model\n",
    "            # print(f\"Validation loss improved to {best_val_loss:.4f}. Saving model state.\")\n",
    "        else:\n",
    "            epochs_no_improve += 1\n",
    "            # print(f\"Validation loss did not improve for {epochs_no_improve} epoch(s).\")\n",
    "\n",
    "        if epochs_no_improve >= EARLY_STOPPING_PATIENCE:\n",
    "            print(f\"\\nEarly stopping triggered after {epoch+1} epochs due to no improvement in validation loss for {EARLY_STOPPING_PATIENCE} consecutive epochs.\")\n",
    "            print(f\"Best validation loss achieved: {best_val_loss:.4f}\")\n",
    "            if best_model_state:\n",
    "                model.load_state_dict(best_model_state) # Load the best model state before final evaluation\n",
    "            break\n",
    "            \n",
    "    print(\"\\n--- Training Finished ---\")\n",
    "\n",
    "    # Load the best model state if early stopping occurred and a best state was saved\n",
    "    if best_model_state:\n",
    "        print(\"Loading best model state for final evaluation.\")\n",
    "        model.load_state_dict(best_model_state)\n",
    "\n",
    "    print(\"\\n--- Evaluating on Test Set (with best model) ---\")\n",
    "    test_loss, test_acc, true_labels, predicted_labels = evaluate_model(model, val_loader, criterion, device, eval_type=\"Test\") # Using val_loader as test_loader\n",
    "    print(f\"Final Test Loss: {test_loss:.4f}\")\n",
    "    print(f\"Final Test Accuracy: {test_acc:.4f}\")\n",
    "\n",
    "    if true_labels and predicted_labels: \n",
    "        class_names = [f\"G{i+1}\" for i in range(NUM_CLASSES)] \n",
    "        print(\"\\nClassification Report:\")\n",
    "        print(classification_report(true_labels, predicted_labels, target_names=class_names, zero_division=0))\n",
    "\n",
    "        cm = confusion_matrix(true_labels, predicted_labels)\n",
    "        plot_confusion_matrix(cm, class_names=class_names, title=\"Test Set Confusion Matrix\")\n",
    "    else:\n",
    "        print(\"Could not generate classification report or confusion matrix.\")\n",
    "\n",
    "    # Example of saving the final best model\n",
    "    # if best_model_state:\n",
    "    #    torch.save(best_model_state, 'eeg_emotion_best_model.pth')\n",
    "    #    print(\"Best model saved to eeg_emotion_best_model.pth\")\n",
    "    # else: # If early stopping wasn't triggered or no improvement, save current model\n",
    "    #    torch.save(model.state_dict(), 'eeg_emotion_final_model.pth')\n",
    "    #    print(\"Final model saved to eeg_emotion_final_model.pth\")\n",
    "\n"
   ]
  }
 ],
 "metadata": {
  "kernelspec": {
   "display_name": ".venv",
   "language": "python",
   "name": "python3"
  },
  "language_info": {
   "codemirror_mode": {
    "name": "ipython",
    "version": 3
   },
   "file_extension": ".py",
   "mimetype": "text/x-python",
   "name": "python",
   "nbconvert_exporter": "python",
   "pygments_lexer": "ipython3",
   "version": "3.12.10"
  }
 },
 "nbformat": 4,
 "nbformat_minor": 5
}
