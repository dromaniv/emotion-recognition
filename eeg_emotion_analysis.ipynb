{
 "cells": [
  {
   "cell_type": "markdown",
   "id": "4662cc93",
   "metadata": {},
   "source": [
    "# EEG Emotion Recognition Notebook\n",
    "\n",
    "This notebook implements a CNN+LSTM model for emotion recognition using EEG data from the GAMEEMO dataset. The code is organized into sections with explanations."
   ]
  },
  {
   "cell_type": "code",
   "execution_count": 1,
   "id": "c6347950",
   "metadata": {},
   "outputs": [],
   "source": [
    "import torch\n",
    "import torch.nn as nn\n",
    "import torch.optim as optim\n",
    "from torch.utils.data import Dataset, DataLoader, random_split\n",
    "from torch.optim.lr_scheduler import ReduceLROnPlateau\n",
    "from pathlib import Path\n",
    "import re\n",
    "import pandas as pd\n",
    "import numpy as np\n",
    "from sklearn.metrics import confusion_matrix, classification_report\n",
    "import matplotlib.pyplot as plt\n",
    "import seaborn as sns\n",
    "from tqdm import tqdm\n",
    "import copy"
   ]
  },
  {
   "cell_type": "markdown",
   "id": "58bffa0b",
   "metadata": {},
   "source": [
    "## Configuration\n",
    "\n",
    "Set up paths and hyperparameters."
   ]
  },
  {
   "metadata": {},
   "cell_type": "code",
   "outputs": [],
   "execution_count": null,
   "source": [
    "DATA_ROOT = Path(\"../data/GAMEEMO\")  # User updated path\n",
    "NUM_EPOCHS = 100\n",
    "BATCH_SIZE = 16\n",
    "LEARNING_RATE = 0.001\n",
    "TEST_SPLIT_RATIO = 0.2\n",
    "NUM_CLASSES = 4\n",
    "NUM_CHANNELS = 14\n",
    "FIXED_SEQUENCE_LENGTH = 3000\n",
    "MODEL_SAVE_PATH = \"models/eeg_emotion_best_accuracy_model.pth\"\n",
    "\n",
    "# Early Stopping Configuration\n",
    "EARLY_STOPPING_PATIENCE = 10\n",
    "EARLY_STOPPING_MIN_DELTA = 0.001  # For validation loss\n",
    "\n",
    "Path(\"../models\").mkdir(parents=True, exist_ok=True)"
   ],
   "id": "3eb03555a720bfcb"
  },
  {
   "metadata": {},
   "cell_type": "code",
   "outputs": [],
   "execution_count": null,
   "source": [
    "DATA_ROOT.mkdir(parents=True, exist_ok=True)\n",
    "\n",
    "# Download the dataset if it does not exist\n",
    "if not any(DATA_ROOT.rglob(\"*.csv\")):\n",
    "    print(\"Downloading GAMEEMO\")\n",
    "    try:\n",
    "        subprocess.run(\n",
    "            [\n",
    "                \"kaggle\",\n",
    "                \"datasets\",\n",
    "                \"download\",\n",
    "                \"-d\",\n",
    "                \"sigfest/database-for-emotion-recognition-system-gameemo\",\n",
    "                \"-p\",\n",
    "                str(DATA_ROOT.parent),\n",
    "                \"--unzip\",\n",
    "            ],\n",
    "            check=True,\n",
    "        )\n",
    "    except Exception as e:\n",
    "        sys.stderr.write(f\"⚠️ Kaggle download failed: {e}\\n\")\n",
    "else:\n",
    "    print(\"Dataset already present - skipping download.\")"
   ],
   "id": "296fcfca4820a742"
  },
  {
   "cell_type": "markdown",
   "id": "52d83368",
   "metadata": {},
   "source": [
    "## 1. Data Loading and Preprocessing\n",
    "\n",
    "Define helper functions and a custom Dataset class to load and preprocess EEG data."
   ]
  },
  {
   "cell_type": "code",
   "execution_count": 3,
   "id": "d196e8f7",
   "metadata": {},
   "outputs": [],
   "source": [
    "def g_label(fn_name):\n",
    "    \"\"\"Extracts game label (0-3) from a filename.\"\"\"\n",
    "    match = re.search(r\"G([1-4])\", fn_name)\n",
    "    if match:\n",
    "        return int(match.group(1)) - 1\n",
    "    raise ValueError(f\"Could not extract label from {fn_name}\")\n",
    "\n",
    "class EEGDataset(Dataset):\n",
    "    \"\"\"Custom PyTorch Dataset for GAMEEMO EEG data.\"\"\"\n",
    "    def __init__(self, data_root, fixed_sequence_length, transform=None):\n",
    "        self.data_root = Path(data_root)\n",
    "        self.fixed_sequence_length = fixed_sequence_length\n",
    "        self.transform = transform\n",
    "        self.eeg_paths = []\n",
    "        self.labels = []\n",
    "        self._load_data()\n",
    "\n",
    "    def _load_data(self):\n",
    "        \"\"\"Loads all EEG file paths and their corresponding labels.\"\"\"\n",
    "        if not self.data_root.exists():\n",
    "            print(f\"ERROR: Data root directory '{self.data_root.resolve()}' does not exist.\")\n",
    "            return\n",
    "\n",
    "        subject_count = 0\n",
    "        for subj_dir in self.data_root.iterdir():\n",
    "            if subj_dir.is_dir() and re.fullmatch(r\"\\(S\\d{2}\\)\", subj_dir.name):\n",
    "                subject_count +=1\n",
    "                csv_dir = subj_dir / \"Preprocessed EEG Data\" / \".csv format\"\n",
    "                if csv_dir.exists():\n",
    "                    for p in csv_dir.glob(\"*.csv\"):\n",
    "                        try:\n",
    "                            label = g_label(p.name)\n",
    "                            self.eeg_paths.append(p)\n",
    "                            self.labels.append(label)\n",
    "                        except ValueError:\n",
    "                            pass\n",
    "\n",
    "        print(f\"Found {len(self.eeg_paths)} recordings from {subject_count} subjects.\")\n",
    "        if not self.eeg_paths:\n",
    "            print(\"CRITICAL: No EEG files were found. Please check DATA_ROOT and dataset structure.\")\n",
    "\n",
    "    def __len__(self):\n",
    "        return len(self.eeg_paths)\n",
    "\n",
    "    def __getitem__(self, idx):\n",
    "        file_path = self.eeg_paths[idx]\n",
    "        label = self.labels[idx]\n",
    "\n",
    "        try:\n",
    "            df = pd.read_csv(file_path, header=0)\n",
    "            if df.shape[1] == NUM_CHANNELS + 1:\n",
    "                df = df.iloc[:, :NUM_CHANNELS]\n",
    "            elif df.shape[1] == NUM_CHANNELS:\n",
    "                pass\n",
    "            else:\n",
    "                return None, None\n",
    "\n",
    "            eeg_data = df.values.astype(np.float32)\n",
    "            if eeg_data.shape[0] > self.fixed_sequence_length:\n",
    "                eeg_data = eeg_data[:self.fixed_sequence_length, :]\n",
    "            else:\n",
    "                padding_rows = self.fixed_sequence_length - eeg_data.shape[0]\n",
    "                if padding_rows > 0:\n",
    "                    padding = np.zeros((padding_rows, NUM_CHANNELS), dtype=np.float32)\n",
    "                    eeg_data = np.vstack((eeg_data, padding))\n",
    "\n",
    "            if eeg_data.shape[1] != NUM_CHANNELS:\n",
    "                return None, None\n",
    "\n",
    "            eeg_data = eeg_data.T\n",
    "            if self.transform:\n",
    "                eeg_data = self.transform(eeg_data)\n",
    "\n",
    "            return torch.tensor(eeg_data, dtype=torch.float32), torch.tensor(label, dtype=torch.long)\n",
    "\n",
    "        except pd.errors.EmptyDataError:\n",
    "            return None, None\n",
    "        except Exception:\n",
    "            return None, None\n",
    "\n",
    "def custom_collate_fn(batch):\n",
    "    \"\"\"Collate function to filter out None items from the batch.\"\"\"\n",
    "    batch = [item for item in batch if item[0] is not None and item[1] is not None]\n",
    "    if not batch:\n",
    "        return None, None\n",
    "    return torch.utils.data.dataloader.default_collate(batch)"
   ]
  },
  {
   "cell_type": "markdown",
   "id": "fa12c8d4",
   "metadata": {},
   "source": [
    "## 2. Model Architecture (CNN + LSTM)\n",
    "\n",
    "Define the CNN+LSTM model for EEG classification."
   ]
  },
  {
   "cell_type": "code",
   "execution_count": 4,
   "id": "edd81d83",
   "metadata": {},
   "outputs": [],
   "source": [
    "class EEG_CNN_LSTM(nn.Module):\n",
    "    \"\"\"CNN followed by LSTM for EEG classification.\"\"\"\n",
    "    def __init__(self, num_classes, num_channels, sequence_length, lstm_hidden_size=128, num_lstm_layers=1, dropout_rate=0.5):\n",
    "        super(EEG_CNN_LSTM, self).__init__()\n",
    "        self.num_channels = num_channels\n",
    "        self.sequence_length = sequence_length\n",
    "\n",
    "        self.conv1 = nn.Conv1d(in_channels=num_channels, out_channels=32, kernel_size=3, stride=1, padding=1)\n",
    "        self.bn1 = nn.BatchNorm1d(32)\n",
    "        self.relu1 = nn.ReLU()\n",
    "        self.pool1 = nn.MaxPool1d(kernel_size=2, stride=2)\n",
    "        self.dropout_cnn = nn.Dropout(dropout_rate / 2)\n",
    "\n",
    "        self.conv2 = nn.Conv1d(in_channels=32, out_channels=64, kernel_size=3, stride=1, padding=1)\n",
    "        self.bn2 = nn.BatchNorm1d(64)\n",
    "        self.relu2 = nn.ReLU()\n",
    "        self.pool2 = nn.MaxPool1d(kernel_size=2, stride=2)\n",
    "\n",
    "        self.lstm_input_features = 64\n",
    "        self.lstm = nn.LSTM(input_size=self.lstm_input_features,\n",
    "                          hidden_size=lstm_hidden_size,\n",
    "                          num_layers=num_lstm_layers,\n",
    "                          batch_first=True,\n",
    "                          dropout=dropout_rate if num_lstm_layers > 1 else 0)\n",
    "\n",
    "        self.dropout_fc = nn.Dropout(dropout_rate)\n",
    "        self.fc = nn.Linear(lstm_hidden_size, num_classes)\n",
    "\n",
    "    def forward(self, x):\n",
    "        x = self.pool1(self.relu1(self.bn1(self.conv1(x))))\n",
    "        x = self.dropout_cnn(x)\n",
    "        x = self.pool2(self.relu2(self.bn2(self.conv2(x))))\n",
    "        x = x.permute(0, 2, 1)\n",
    "        lstm_out, (h_n, c_n) = self.lstm(x)\n",
    "        x = h_n[-1]\n",
    "        x = self.dropout_fc(x)\n",
    "        x = self.fc(x)\n",
    "        return x"
   ]
  },
  {
   "cell_type": "markdown",
   "id": "3e8ab24b",
   "metadata": {},
   "source": [
    "## 3. Training and Evaluation Functions\n",
    "\n",
    "Define functions to train and evaluate the model, and to plot the confusion matrix."
   ]
  },
  {
   "cell_type": "code",
   "execution_count": 5,
   "id": "bc35716d",
   "metadata": {},
   "outputs": [],
   "source": [
    "def train_model(model, train_loader, criterion, optimizer, device):\n",
    "    \"\"\"Trains the model for one epoch.\"\"\"\n",
    "    model.train()\n",
    "    running_loss = 0.0\n",
    "    correct_predictions = 0\n",
    "    total_samples = 0\n",
    "\n",
    "    progress_bar = tqdm(train_loader, desc=\"Training\", leave=False, unit=\"batch\")\n",
    "    for inputs, labels in progress_bar:\n",
    "        if inputs is None or labels is None:\n",
    "            continue\n",
    "        inputs, labels = inputs.to(device), labels.to(device)\n",
    "\n",
    "        optimizer.zero_grad()\n",
    "        outputs = model(inputs)\n",
    "        loss = criterion(outputs, labels)\n",
    "        loss.backward()\n",
    "        optimizer.step()\n",
    "\n",
    "        running_loss += loss.item() * inputs.size(0)\n",
    "        _, predicted = torch.max(outputs.data, 1)\n",
    "        total_samples += labels.size(0)\n",
    "        correct_predictions += (predicted == labels).sum().item()\n",
    "\n",
    "        if total_samples > 0:\n",
    "            progress_bar.set_postfix(loss=running_loss/total_samples, acc=correct_predictions/total_samples)\n",
    "\n",
    "    if total_samples == 0:\n",
    "        return 0.0, 0.0\n",
    "\n",
    "    epoch_loss = running_loss / total_samples\n",
    "    epoch_acc = correct_predictions / total_samples\n",
    "    return epoch_loss, epoch_acc\n",
    "\n",
    "def evaluate_model(model, val_loader, criterion, device, eval_type=\"Validation\"):\n",
    "    \"\"\"Evaluates the model on the validation/test set.\"\"\"\n",
    "    model.eval()\n",
    "    running_loss = 0.0\n",
    "    correct_predictions = 0\n",
    "    total_samples = 0\n",
    "    all_labels = []\n",
    "    all_predictions = []\n",
    "\n",
    "    progress_bar = tqdm(val_loader, desc=eval_type, leave=False, unit=\"batch\")\n",
    "    with torch.no_grad():\n",
    "        for inputs, labels in progress_bar:\n",
    "            if inputs is None or labels is None:\n",
    "                continue\n",
    "            inputs, labels = inputs.to(device), labels.to(device)\n",
    "\n",
    "            outputs = model(inputs)\n",
    "            loss = criterion(outputs, labels)\n",
    "\n",
    "            running_loss += loss.item() * inputs.size(0)\n",
    "            _, predicted = torch.max(outputs.data, 1)\n",
    "            total_samples += labels.size(0)\n",
    "            correct_predictions += (predicted == labels).sum().item()\n",
    "\n",
    "            all_labels.extend(labels.cpu().numpy())\n",
    "            all_predictions.extend(predicted.cpu().numpy())\n",
    "\n",
    "            if total_samples > 0:\n",
    "                progress_bar.set_postfix(loss=running_loss/total_samples, acc=correct_predictions/total_samples)\n",
    "\n",
    "    if total_samples == 0:\n",
    "        return 0.0, 0.0, [], []\n",
    "\n",
    "    epoch_loss = running_loss / total_samples\n",
    "    epoch_acc = correct_predictions / total_samples\n",
    "    return epoch_loss, epoch_acc, all_labels, all_predictions\n",
    "\n",
    "def plot_confusion_matrix(cm, class_names, title='Confusion Matrix'):\n",
    "    \"\"\"Plots a confusion matrix using seaborn and matplotlib.\"\"\"\n",
    "    plt.figure(figsize=(8, 6))\n",
    "    sns.heatmap(cm, annot=True, fmt='d', cmap='Blues', xticklabels=class_names, yticklabels=class_names)\n",
    "    plt.title(title)\n",
    "    plt.ylabel('True Label')\n",
    "    plt.xlabel('Predicted Label')\n",
    "    plt.tight_layout()\n",
    "    plt.show()"
   ]
  },
  {
   "cell_type": "markdown",
   "id": "7c1b980f",
   "metadata": {},
   "source": [
    "## 4. Main Execution\n",
    "\n",
    "Run data loading, model initialization, training, and final evaluation."
   ]
  },
  {
   "cell_type": "code",
   "execution_count": 6,
   "id": "99664c25",
   "metadata": {},
   "outputs": [
    {
     "name": "stdout",
     "output_type": "stream",
     "text": [
      "Using device: cuda\n",
      "Initializing dataset...\n",
      "Found 112 recordings from 28 subjects.\n",
      "Number of training samples: 90\n",
      "Number of testing samples: 22\n",
      "\n",
      "--- Starting Training ---\n"
     ]
    },
    {
     "name": "stderr",
     "output_type": "stream",
     "text": [
      "                                                                                  \r"
     ]
    },
    {
     "name": "stdout",
     "output_type": "stream",
     "text": [
      "Epoch 1/100 => Train Loss: 1.3951, Train Acc: 0.2111 | Val Loss: 1.3702, Val Acc: 0.3182 | LR: 1.0e-03\n",
      "*** New best validation accuracy: 0.3182. Saving model state. ***\n"
     ]
    },
    {
     "name": "stderr",
     "output_type": "stream",
     "text": [
      "                                                                                  \r"
     ]
    },
    {
     "name": "stdout",
     "output_type": "stream",
     "text": [
      "Epoch 2/100 => Train Loss: 1.3608, Train Acc: 0.4333 | Val Loss: 1.3583, Val Acc: 0.2273 | LR: 1.0e-03\n"
     ]
    },
    {
     "name": "stderr",
     "output_type": "stream",
     "text": [
      "                                                                                  \r"
     ]
    },
    {
     "name": "stdout",
     "output_type": "stream",
     "text": [
      "Epoch 3/100 => Train Loss: 1.3321, Train Acc: 0.4333 | Val Loss: 1.3431, Val Acc: 0.3182 | LR: 1.0e-03\n"
     ]
    },
    {
     "name": "stderr",
     "output_type": "stream",
     "text": [
      "                                                                                  \r"
     ]
    },
    {
     "name": "stdout",
     "output_type": "stream",
     "text": [
      "Epoch 4/100 => Train Loss: 1.3110, Train Acc: 0.4111 | Val Loss: 1.3204, Val Acc: 0.3636 | LR: 1.0e-03\n",
      "*** New best validation accuracy: 0.3636. Saving model state. ***\n"
     ]
    },
    {
     "name": "stderr",
     "output_type": "stream",
     "text": [
      "                                                                                  \r"
     ]
    },
    {
     "name": "stdout",
     "output_type": "stream",
     "text": [
      "Epoch 5/100 => Train Loss: 1.2793, Train Acc: 0.4444 | Val Loss: 1.2948, Val Acc: 0.4091 | LR: 1.0e-03\n",
      "*** New best validation accuracy: 0.4091. Saving model state. ***\n"
     ]
    },
    {
     "name": "stderr",
     "output_type": "stream",
     "text": [
      "                                                                                  \r"
     ]
    },
    {
     "name": "stdout",
     "output_type": "stream",
     "text": [
      "Epoch 6/100 => Train Loss: 1.2028, Train Acc: 0.5222 | Val Loss: 1.2515, Val Acc: 0.3636 | LR: 1.0e-03\n"
     ]
    },
    {
     "name": "stderr",
     "output_type": "stream",
     "text": [
      "                                                                                  \r"
     ]
    },
    {
     "name": "stdout",
     "output_type": "stream",
     "text": [
      "Epoch 7/100 => Train Loss: 1.1490, Train Acc: 0.6000 | Val Loss: 1.2367, Val Acc: 0.4545 | LR: 1.0e-03\n",
      "*** New best validation accuracy: 0.4545. Saving model state. ***\n"
     ]
    },
    {
     "name": "stderr",
     "output_type": "stream",
     "text": [
      "                                                                                  \r"
     ]
    },
    {
     "name": "stdout",
     "output_type": "stream",
     "text": [
      "Epoch 8/100 => Train Loss: 1.0722, Train Acc: 0.6222 | Val Loss: 1.2156, Val Acc: 0.4545 | LR: 1.0e-03\n"
     ]
    },
    {
     "name": "stderr",
     "output_type": "stream",
     "text": [
      "                                                                                  \r"
     ]
    },
    {
     "name": "stdout",
     "output_type": "stream",
     "text": [
      "Epoch 9/100 => Train Loss: 0.9571, Train Acc: 0.6667 | Val Loss: 1.1522, Val Acc: 0.5909 | LR: 1.0e-03\n",
      "*** New best validation accuracy: 0.5909. Saving model state. ***\n"
     ]
    },
    {
     "name": "stderr",
     "output_type": "stream",
     "text": [
      "                                                                                  \r"
     ]
    },
    {
     "name": "stdout",
     "output_type": "stream",
     "text": [
      "Epoch 10/100 => Train Loss: 0.9384, Train Acc: 0.6222 | Val Loss: 1.0481, Val Acc: 0.6818 | LR: 1.0e-03\n",
      "*** New best validation accuracy: 0.6818. Saving model state. ***\n"
     ]
    },
    {
     "name": "stderr",
     "output_type": "stream",
     "text": [
      "                                                                                  \r"
     ]
    },
    {
     "name": "stdout",
     "output_type": "stream",
     "text": [
      "Epoch 11/100 => Train Loss: 0.8619, Train Acc: 0.7000 | Val Loss: 1.0429, Val Acc: 0.6818 | LR: 1.0e-03\n"
     ]
    },
    {
     "name": "stderr",
     "output_type": "stream",
     "text": [
      "                                                                                  \r"
     ]
    },
    {
     "name": "stdout",
     "output_type": "stream",
     "text": [
      "Epoch 12/100 => Train Loss: 0.7961, Train Acc: 0.7556 | Val Loss: 1.0193, Val Acc: 0.6364 | LR: 1.0e-03\n"
     ]
    },
    {
     "name": "stderr",
     "output_type": "stream",
     "text": [
      "                                                                                   \r"
     ]
    },
    {
     "name": "stdout",
     "output_type": "stream",
     "text": [
      "Epoch 13/100 => Train Loss: 0.6436, Train Acc: 0.8667 | Val Loss: 0.9710, Val Acc: 0.6818 | LR: 1.0e-03\n"
     ]
    },
    {
     "name": "stderr",
     "output_type": "stream",
     "text": [
      "                                                                                   \r"
     ]
    },
    {
     "name": "stdout",
     "output_type": "stream",
     "text": [
      "Epoch 14/100 => Train Loss: 0.6003, Train Acc: 0.8333 | Val Loss: 0.9033, Val Acc: 0.7727 | LR: 1.0e-03\n",
      "*** New best validation accuracy: 0.7727. Saving model state. ***\n"
     ]
    },
    {
     "name": "stderr",
     "output_type": "stream",
     "text": [
      "                                                                                   \r"
     ]
    },
    {
     "name": "stdout",
     "output_type": "stream",
     "text": [
      "Epoch 15/100 => Train Loss: 0.4944, Train Acc: 0.8444 | Val Loss: 0.8544, Val Acc: 0.7727 | LR: 1.0e-03\n"
     ]
    },
    {
     "name": "stderr",
     "output_type": "stream",
     "text": [
      "                                                                                   \r"
     ]
    },
    {
     "name": "stdout",
     "output_type": "stream",
     "text": [
      "Epoch 16/100 => Train Loss: 0.5087, Train Acc: 0.8222 | Val Loss: 0.8156, Val Acc: 0.6818 | LR: 1.0e-03\n"
     ]
    },
    {
     "name": "stderr",
     "output_type": "stream",
     "text": [
      "                                                                                   \r"
     ]
    },
    {
     "name": "stdout",
     "output_type": "stream",
     "text": [
      "Epoch 17/100 => Train Loss: 0.4318, Train Acc: 0.8778 | Val Loss: 0.8552, Val Acc: 0.7273 | LR: 1.0e-03\n"
     ]
    },
    {
     "name": "stderr",
     "output_type": "stream",
     "text": [
      "                                                                                   \r"
     ]
    },
    {
     "name": "stdout",
     "output_type": "stream",
     "text": [
      "Epoch 18/100 => Train Loss: 0.3912, Train Acc: 0.8667 | Val Loss: 0.7775, Val Acc: 0.7727 | LR: 1.0e-03\n"
     ]
    },
    {
     "name": "stderr",
     "output_type": "stream",
     "text": [
      "                                                                                   \r"
     ]
    },
    {
     "name": "stdout",
     "output_type": "stream",
     "text": [
      "Epoch 19/100 => Train Loss: 0.3346, Train Acc: 0.8667 | Val Loss: 0.6386, Val Acc: 0.7727 | LR: 1.0e-03\n"
     ]
    },
    {
     "name": "stderr",
     "output_type": "stream",
     "text": [
      "                                                                                   \r"
     ]
    },
    {
     "name": "stdout",
     "output_type": "stream",
     "text": [
      "Epoch 20/100 => Train Loss: 0.4354, Train Acc: 0.8667 | Val Loss: 0.5521, Val Acc: 0.8636 | LR: 1.0e-03\n",
      "*** New best validation accuracy: 0.8636. Saving model state. ***\n"
     ]
    },
    {
     "name": "stderr",
     "output_type": "stream",
     "text": [
      "                                                                                   \r"
     ]
    },
    {
     "name": "stdout",
     "output_type": "stream",
     "text": [
      "Epoch 21/100 => Train Loss: 0.4380, Train Acc: 0.8556 | Val Loss: 0.6126, Val Acc: 0.7727 | LR: 1.0e-03\n"
     ]
    },
    {
     "name": "stderr",
     "output_type": "stream",
     "text": [
      "                                                                                   \r"
     ]
    },
    {
     "name": "stdout",
     "output_type": "stream",
     "text": [
      "Epoch 22/100 => Train Loss: 0.3919, Train Acc: 0.8556 | Val Loss: 0.6435, Val Acc: 0.8636 | LR: 1.0e-03\n"
     ]
    },
    {
     "name": "stderr",
     "output_type": "stream",
     "text": [
      "                                                                                   \r"
     ]
    },
    {
     "name": "stdout",
     "output_type": "stream",
     "text": [
      "Epoch 23/100 => Train Loss: 0.3203, Train Acc: 0.9111 | Val Loss: 0.5502, Val Acc: 0.9091 | LR: 1.0e-03\n",
      "*** New best validation accuracy: 0.9091. Saving model state. ***\n"
     ]
    },
    {
     "name": "stderr",
     "output_type": "stream",
     "text": [
      "                                                                                   \r"
     ]
    },
    {
     "name": "stdout",
     "output_type": "stream",
     "text": [
      "Epoch 24/100 => Train Loss: 0.2583, Train Acc: 0.9111 | Val Loss: 0.5034, Val Acc: 0.8636 | LR: 1.0e-03\n"
     ]
    },
    {
     "name": "stderr",
     "output_type": "stream",
     "text": [
      "                                                                                   \r"
     ]
    },
    {
     "name": "stdout",
     "output_type": "stream",
     "text": [
      "Epoch 25/100 => Train Loss: 0.2180, Train Acc: 0.9556 | Val Loss: 0.4988, Val Acc: 0.8636 | LR: 1.0e-03\n"
     ]
    },
    {
     "name": "stderr",
     "output_type": "stream",
     "text": [
      "                                                                                   \r"
     ]
    },
    {
     "name": "stdout",
     "output_type": "stream",
     "text": [
      "Epoch 26/100 => Train Loss: 0.1641, Train Acc: 0.9778 | Val Loss: 0.5021, Val Acc: 0.8636 | LR: 1.0e-03\n"
     ]
    },
    {
     "name": "stderr",
     "output_type": "stream",
     "text": [
      "                                                                                   \r"
     ]
    },
    {
     "name": "stdout",
     "output_type": "stream",
     "text": [
      "Epoch 27/100 => Train Loss: 0.1278, Train Acc: 0.9667 | Val Loss: 0.4852, Val Acc: 0.8182 | LR: 1.0e-03\n"
     ]
    },
    {
     "name": "stderr",
     "output_type": "stream",
     "text": [
      "                                                                                   \r"
     ]
    },
    {
     "name": "stdout",
     "output_type": "stream",
     "text": [
      "Epoch 28/100 => Train Loss: 0.1472, Train Acc: 0.9667 | Val Loss: 0.5500, Val Acc: 0.8182 | LR: 1.0e-03\n"
     ]
    },
    {
     "name": "stderr",
     "output_type": "stream",
     "text": [
      "                                                                                   \r"
     ]
    },
    {
     "name": "stdout",
     "output_type": "stream",
     "text": [
      "Epoch 29/100 => Train Loss: 0.1247, Train Acc: 0.9778 | Val Loss: 0.7625, Val Acc: 0.7727 | LR: 1.0e-03\n"
     ]
    },
    {
     "name": "stderr",
     "output_type": "stream",
     "text": [
      "                                                                                   \r"
     ]
    },
    {
     "name": "stdout",
     "output_type": "stream",
     "text": [
      "Epoch 30/100 => Train Loss: 0.1243, Train Acc: 0.9778 | Val Loss: 0.5936, Val Acc: 0.8182 | LR: 1.0e-03\n"
     ]
    },
    {
     "name": "stderr",
     "output_type": "stream",
     "text": [
      "                                                                                   \r"
     ]
    },
    {
     "name": "stdout",
     "output_type": "stream",
     "text": [
      "Epoch 31/100 => Train Loss: 0.0909, Train Acc: 0.9889 | Val Loss: 0.5263, Val Acc: 0.7727 | LR: 1.0e-03\n"
     ]
    },
    {
     "name": "stderr",
     "output_type": "stream",
     "text": [
      "                                                                                  \r"
     ]
    },
    {
     "name": "stdout",
     "output_type": "stream",
     "text": [
      "Epoch 32/100 => Train Loss: 0.0733, Train Acc: 1.0000 | Val Loss: 0.5104, Val Acc: 0.7727 | LR: 2.0e-04\n"
     ]
    },
    {
     "name": "stderr",
     "output_type": "stream",
     "text": [
      "                                                                                   \r"
     ]
    },
    {
     "name": "stdout",
     "output_type": "stream",
     "text": [
      "Epoch 33/100 => Train Loss: 0.1630, Train Acc: 0.9556 | Val Loss: 0.4739, Val Acc: 0.8182 | LR: 2.0e-04\n"
     ]
    },
    {
     "name": "stderr",
     "output_type": "stream",
     "text": [
      "                                                                                   \r"
     ]
    },
    {
     "name": "stdout",
     "output_type": "stream",
     "text": [
      "Epoch 34/100 => Train Loss: 0.0618, Train Acc: 1.0000 | Val Loss: 0.4073, Val Acc: 0.8636 | LR: 2.0e-04\n"
     ]
    },
    {
     "name": "stderr",
     "output_type": "stream",
     "text": [
      "                                                                                   \r"
     ]
    },
    {
     "name": "stdout",
     "output_type": "stream",
     "text": [
      "Epoch 35/100 => Train Loss: 0.0610, Train Acc: 1.0000 | Val Loss: 0.3380, Val Acc: 0.8636 | LR: 2.0e-04\n"
     ]
    },
    {
     "name": "stderr",
     "output_type": "stream",
     "text": [
      "                                                                                   \r"
     ]
    },
    {
     "name": "stdout",
     "output_type": "stream",
     "text": [
      "Epoch 36/100 => Train Loss: 0.0478, Train Acc: 1.0000 | Val Loss: 0.2824, Val Acc: 0.8636 | LR: 2.0e-04\n"
     ]
    },
    {
     "name": "stderr",
     "output_type": "stream",
     "text": [
      "                                                                                   \r"
     ]
    },
    {
     "name": "stdout",
     "output_type": "stream",
     "text": [
      "Epoch 37/100 => Train Loss: 0.0492, Train Acc: 1.0000 | Val Loss: 0.2737, Val Acc: 0.8636 | LR: 2.0e-04\n"
     ]
    },
    {
     "name": "stderr",
     "output_type": "stream",
     "text": [
      "                                                                                   \r"
     ]
    },
    {
     "name": "stdout",
     "output_type": "stream",
     "text": [
      "Epoch 38/100 => Train Loss: 0.0583, Train Acc: 0.9889 | Val Loss: 0.2845, Val Acc: 0.9091 | LR: 2.0e-04\n"
     ]
    },
    {
     "name": "stderr",
     "output_type": "stream",
     "text": [
      "                                                                                   \r"
     ]
    },
    {
     "name": "stdout",
     "output_type": "stream",
     "text": [
      "Epoch 39/100 => Train Loss: 0.0378, Train Acc: 1.0000 | Val Loss: 0.2873, Val Acc: 0.9545 | LR: 2.0e-04\n",
      "*** New best validation accuracy: 0.9545. Saving model state. ***\n"
     ]
    },
    {
     "name": "stderr",
     "output_type": "stream",
     "text": [
      "                                                                                   \r"
     ]
    },
    {
     "name": "stdout",
     "output_type": "stream",
     "text": [
      "Epoch 40/100 => Train Loss: 0.0659, Train Acc: 0.9889 | Val Loss: 0.2919, Val Acc: 0.9545 | LR: 2.0e-04\n"
     ]
    },
    {
     "name": "stderr",
     "output_type": "stream",
     "text": [
      "                                                                                   \r"
     ]
    },
    {
     "name": "stdout",
     "output_type": "stream",
     "text": [
      "Epoch 41/100 => Train Loss: 0.0460, Train Acc: 0.9889 | Val Loss: 0.2925, Val Acc: 0.9545 | LR: 2.0e-04\n"
     ]
    },
    {
     "name": "stderr",
     "output_type": "stream",
     "text": [
      "                                                                                   \r"
     ]
    },
    {
     "name": "stdout",
     "output_type": "stream",
     "text": [
      "Epoch 42/100 => Train Loss: 0.0459, Train Acc: 1.0000 | Val Loss: 0.2917, Val Acc: 0.9545 | LR: 4.0e-05\n"
     ]
    },
    {
     "name": "stderr",
     "output_type": "stream",
     "text": [
      "                                                                                   \r"
     ]
    },
    {
     "name": "stdout",
     "output_type": "stream",
     "text": [
      "Epoch 43/100 => Train Loss: 0.0352, Train Acc: 1.0000 | Val Loss: 0.2828, Val Acc: 0.9545 | LR: 4.0e-05\n"
     ]
    },
    {
     "name": "stderr",
     "output_type": "stream",
     "text": [
      "                                                                                   \r"
     ]
    },
    {
     "name": "stdout",
     "output_type": "stream",
     "text": [
      "Epoch 44/100 => Train Loss: 0.0339, Train Acc: 1.0000 | Val Loss: 0.2878, Val Acc: 0.9091 | LR: 4.0e-05\n"
     ]
    },
    {
     "name": "stderr",
     "output_type": "stream",
     "text": [
      "                                                                                   \r"
     ]
    },
    {
     "name": "stdout",
     "output_type": "stream",
     "text": [
      "Epoch 45/100 => Train Loss: 0.0275, Train Acc: 1.0000 | Val Loss: 0.2878, Val Acc: 0.9091 | LR: 4.0e-05\n"
     ]
    },
    {
     "name": "stderr",
     "output_type": "stream",
     "text": [
      "                                                                                   \r"
     ]
    },
    {
     "name": "stdout",
     "output_type": "stream",
     "text": [
      "Epoch 46/100 => Train Loss: 0.0288, Train Acc: 1.0000 | Val Loss: 0.2913, Val Acc: 0.9091 | LR: 8.0e-06\n"
     ]
    },
    {
     "name": "stderr",
     "output_type": "stream",
     "text": [
      "                                                                                   \r"
     ]
    },
    {
     "name": "stdout",
     "output_type": "stream",
     "text": [
      "Epoch 47/100 => Train Loss: 0.0547, Train Acc: 0.9889 | Val Loss: 0.2831, Val Acc: 0.9545 | LR: 8.0e-06\n",
      "\n",
      "Early stopping triggered after 47 epochs: validation loss did not improve for 10 consecutive epochs.\n",
      "Best validation loss achieved: 0.2737\n",
      "\n",
      "--- Training Finished ---\n",
      "Loading model with best validation accuracy: 0.9545 for final evaluation.\n",
      "Model with best validation accuracy saved to ../models/eeg_emotion_best_accuracy_model.pth\n",
      "\n",
      "--- Evaluating on Test Set (with best accuracy model) ---\n"
     ]
    },
    {
     "name": "stderr",
     "output_type": "stream",
     "text": [
      "                                                                             \r"
     ]
    },
    {
     "name": "stdout",
     "output_type": "stream",
     "text": [
      "Final Test Loss: 0.2873\n",
      "Final Test Accuracy: 0.9545 (from model that had best val_acc: 0.9545)\n",
      "\n",
      "Classification Report:\n",
      "              precision    recall  f1-score   support\n",
      "\n",
      "          G1       0.83      1.00      0.91         5\n",
      "          G2       1.00      0.80      0.89         5\n",
      "          G3       1.00      1.00      1.00         7\n",
      "          G4       1.00      1.00      1.00         5\n",
      "\n",
      "    accuracy                           0.95        22\n",
      "   macro avg       0.96      0.95      0.95        22\n",
      "weighted avg       0.96      0.95      0.95        22\n",
      "\n"
     ]
    },
    {
     "data": {
      "image/png": "[encoded data removed]",
      "text/plain": [
       "<Figure size 800x600 with 2 Axes>"
      ]
     },
     "metadata": {},
     "output_type": "display_data"
    }
   ],
   "source": [
    "device = torch.device(\"cuda\" if torch.cuda.is_available() else \"cpu\")\n",
    "print(f\"Using device: {device}\")\n",
    "\n",
    "print(\"Initializing dataset...\")\n",
    "full_dataset = EEGDataset(data_root=DATA_ROOT, fixed_sequence_length=FIXED_SEQUENCE_LENGTH)\n",
    "\n",
    "if not full_dataset.eeg_paths:\n",
    "    print(\"No data loaded. Exiting.\")\n",
    "    exit()\n",
    "\n",
    "num_samples = len(full_dataset)\n",
    "test_size = int(TEST_SPLIT_RATIO * num_samples)\n",
    "train_size = num_samples - test_size\n",
    "\n",
    "if train_size <= 0 or test_size <= 0:\n",
    "    min_samples_needed = int(1 / TEST_SPLIT_RATIO) if TEST_SPLIT_RATIO > 0 else 2\n",
    "    print(f\"Dataset too small for splitting with ratio {TEST_SPLIT_RATIO}. Need at least {min_samples_needed} samples.\")\n",
    "    if num_samples > 0:\n",
    "            train_dataset = full_dataset\n",
    "            test_dataset = full_dataset\n",
    "            print(f\"Warning: Using all {num_samples} samples for training and testing due to small dataset size.\")\n",
    "    else:\n",
    "        print(\"CRITICAL: Dataset is empty after initialization. Cannot proceed.\")\n",
    "        exit()\n",
    "else:\n",
    "    train_dataset, test_dataset = random_split(full_dataset, [train_size, test_size])\n",
    "\n",
    "print(f\"Number of training samples: {len(train_dataset)}\")\n",
    "print(f\"Number of testing samples: {len(test_dataset)}\")\n",
    "\n",
    "num_workers = 0\n",
    "train_loader = DataLoader(train_dataset, batch_size=BATCH_SIZE, shuffle=True, collate_fn=custom_collate_fn, num_workers=num_workers, pin_memory=True if device.type=='cuda' else False)\n",
    "val_loader = DataLoader(test_dataset, batch_size=BATCH_SIZE, shuffle=False, collate_fn=custom_collate_fn, num_workers=num_workers, pin_memory=True if device.type=='cuda' else False)\n",
    "\n",
    "model = EEG_CNN_LSTM(num_classes=NUM_CLASSES, num_channels=NUM_CHANNELS, sequence_length=FIXED_SEQUENCE_LENGTH, dropout_rate=0.5).to(device)\n",
    "criterion = nn.CrossEntropyLoss()\n",
    "optimizer = optim.Adam(model.parameters(), lr=LEARNING_RATE)\n",
    "\n",
    "scheduler = ReduceLROnPlateau(optimizer, mode='min', factor=0.2, patience=3, min_lr=1e-6)\n",
    "\n",
    "best_val_loss = float('inf')\n",
    "best_val_acc = 0.0\n",
    "epochs_no_improve_loss = 0\n",
    "best_model_state_accuracy = None\n",
    "\n",
    "print(\"\\n--- Starting Training ---\")\n",
    "for epoch in range(NUM_EPOCHS):\n",
    "    train_loss, train_acc = train_model(model, train_loader, criterion, optimizer, device)\n",
    "    val_loss, val_acc, _, _ = evaluate_model(model, val_loader, criterion, device, eval_type=\"Validation\")\n",
    "\n",
    "    current_lr = optimizer.param_groups[0]['lr']\n",
    "    print(f\"Epoch {epoch+1}/{NUM_EPOCHS} => \"\n",
    "            f\"Train Loss: {train_loss:.4f}, Train Acc: {train_acc:.4f} | \"\n",
    "            f\"Val Loss: {val_loss:.4f}, Val Acc: {val_acc:.4f} | \"\n",
    "            f\"LR: {current_lr:.1e}\")\n",
    "\n",
    "    scheduler.step(val_loss)\n",
    "\n",
    "    if val_acc > best_val_acc:\n",
    "        best_val_acc = val_acc\n",
    "        best_model_state_accuracy = copy.deepcopy(model.state_dict())\n",
    "        print(f\"*** New best validation accuracy: {best_val_acc:.4f}. Saving model state. ***\")\n",
    "\n",
    "    if val_loss < best_val_loss - EARLY_STOPPING_MIN_DELTA:\n",
    "        best_val_loss = val_loss\n",
    "        epochs_no_improve_loss = 0\n",
    "    else:\n",
    "        epochs_no_improve_loss += 1\n",
    "\n",
    "    if epochs_no_improve_loss >= EARLY_STOPPING_PATIENCE:\n",
    "        print(f\"\\nEarly stopping triggered after {epoch+1} epochs: validation loss did not improve for {EARLY_STOPPING_PATIENCE} consecutive epochs.\")\n",
    "        print(f\"Best validation loss achieved: {best_val_loss:.4f}\")\n",
    "        break\n",
    "\n",
    "print(\"\\n--- Training Finished ---\")\n",
    "if best_model_state_accuracy:\n",
    "    print(f\"Loading model with best validation accuracy: {best_val_acc:.4f} for final evaluation.\")\n",
    "    model.load_state_dict(best_model_state_accuracy)\n",
    "    try:\n",
    "        torch.save(best_model_state_accuracy, MODEL_SAVE_PATH)\n",
    "        print(f\"Model with best validation accuracy saved to {MODEL_SAVE_PATH}\")\n",
    "    except Exception as e:\n",
    "        print(f\"Error saving model: {e}\")\n",
    "else:\n",
    "    print(\"No best model state recorded.\")\n",
    "\n",
    "print(\"\\n--- Evaluating on Test Set (with best accuracy model) ---\")\n",
    "test_loss, test_acc, true_labels, predicted_labels = evaluate_model(model, val_loader, criterion, device, eval_type=\"Test\")\n",
    "print(f\"Final Test Loss: {test_loss:.4f}\")\n",
    "print(f\"Final Test Accuracy: {test_acc:.4f} (from model that had best val_acc: {best_val_acc:.4f})\")\n",
    "\n",
    "if true_labels and predicted_labels:\n",
    "    class_names = [f\"G{i+1}\" for i in range(NUM_CLASSES)]\n",
    "    print(\"\\nClassification Report:\")\n",
    "    print(classification_report(true_labels, predicted_labels, target_names=class_names, zero_division=0))\n",
    "\n",
    "    cm = confusion_matrix(true_labels, predicted_labels)\n",
    "    plot_confusion_matrix(cm, class_names=class_names, title=\"Test Set Confusion Matrix (Best Accuracy Model)\")\n",
    "else:\n",
    "    print(\"Could not generate classification report or confusion matrix (no evaluation results).\")"
   ]
  },
  {
   "cell_type": "markdown",
   "id": "c5393776",
   "metadata": {},
   "source": [
    "## Model Architecture and Citations\n",
    "\n",
    "The model implemented is a hybrid deep learning architecture combining:\n",
    "\n",
    "1. **Convolutional Neural Networks (CNNs)**: Specifically, 1D CNNs are used for initial feature extraction from the EEG channels.\n",
    "2. **Long Short-Term Memory (LSTM) Networks**: Following the CNN layers, an LSTM network models temporal dependencies in the sequence of features.\n",
    "\n",
    "Citations:\n",
    "- LeCun, Y., Bottou, L., Bengio, Y., & Haffner, P. (1998). *Gradient-based learning applied to document recognition.* Proceedings of the IEEE, 86(11), 2278-2324.\n",
    "- Hochreiter, S., & Schmidhuber, J. (1997). *Long short-term memory.* Neural computation, 9(8), 1735-1780."
   ]
  }
 ],
 "metadata": {
  "kernelspec": {
   "display_name": ".venv",
   "language": "python",
   "name": "python3"
  },
  "language_info": {
   "codemirror_mode": {
    "name": "ipython",
    "version": 3
   },
   "file_extension": ".py",
   "mimetype": "text/x-python",
   "name": "python",
   "nbconvert_exporter": "python",
   "pygments_lexer": "ipython3",
   "version": "3.12.10"
  }
 },
 "nbformat": 4,
 "nbformat_minor": 5
}
